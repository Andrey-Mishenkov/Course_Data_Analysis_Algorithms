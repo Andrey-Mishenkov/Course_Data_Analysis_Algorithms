{
 "cells": [
  {
   "cell_type": "markdown",
   "metadata": {},
   "source": [
    "### Домашнее задание <a class=\"anchor\" id=\"hw\"></a><center>"
   ]
  },
  {
   "cell_type": "code",
   "execution_count": 422,
   "metadata": {
    "colab": {},
    "colab_type": "code",
    "id": "zhwkeWtb1O0w"
   },
   "outputs": [],
   "source": [
    "import numpy as np\n",
    "import matplotlib.pyplot as plt"
   ]
  },
  {
   "cell_type": "code",
   "execution_count": 423,
   "metadata": {
    "colab": {},
    "colab_type": "code",
    "id": "FeKFn2yb1To4"
   },
   "outputs": [],
   "source": [
    "X = np.array([ [   1,    1,  500,    1],\n",
    "               [   1,    1,  700,    1],\n",
    "               [   1,    2,  750,    2],\n",
    "               [   1,    5,  600,    1],\n",
    "               [   1,    3, 1450,    2],\n",
    "               [   1,    0,  800,    1],\n",
    "               [   1,    5, 1500,    3],\n",
    "               [   1,   10, 2000,    3],\n",
    "               [   1,    1,  450,    1],\n",
    "               [   1,    2, 1000,    2]], dtype = np.float64)\n",
    "\n",
    "y = np.array([0, 0, 1, 0, 1, 0, 1, 0, 1, 1], dtype = np.float64)"
   ]
  },
  {
   "cell_type": "code",
   "execution_count": 424,
   "metadata": {
    "colab": {
     "base_uri": "https://localhost:8080/",
     "height": 155
    },
    "colab_type": "code",
    "id": "yXSj4nbxHsFd",
    "outputId": "8d102d54-94bf-4acc-d5b8-d60da152b953",
    "scrolled": true
   },
   "outputs": [
    {
     "data": {
      "text/plain": [
       "array([[1.00e+00, 1.00e+00, 5.00e+02, 1.00e+00],\n",
       "       [1.00e+00, 1.00e+00, 7.00e+02, 1.00e+00],\n",
       "       [1.00e+00, 2.00e+00, 7.50e+02, 2.00e+00],\n",
       "       [1.00e+00, 5.00e+00, 6.00e+02, 1.00e+00],\n",
       "       [1.00e+00, 3.00e+00, 1.45e+03, 2.00e+00],\n",
       "       [1.00e+00, 0.00e+00, 8.00e+02, 1.00e+00],\n",
       "       [1.00e+00, 5.00e+00, 1.50e+03, 3.00e+00],\n",
       "       [1.00e+00, 1.00e+01, 2.00e+03, 3.00e+00],\n",
       "       [1.00e+00, 1.00e+00, 4.50e+02, 1.00e+00],\n",
       "       [1.00e+00, 2.00e+00, 1.00e+03, 2.00e+00]])"
      ]
     },
     "execution_count": 424,
     "metadata": {},
     "output_type": "execute_result"
    }
   ],
   "source": [
    "X"
   ]
  },
  {
   "cell_type": "code",
   "execution_count": 425,
   "metadata": {
    "colab": {
     "base_uri": "https://localhost:8080/",
     "height": 34
    },
    "colab_type": "code",
    "id": "QU0A16vZHugZ",
    "outputId": "71d74b95-77f4-41a7-e339-c9e7b2004e4b"
   },
   "outputs": [
    {
     "data": {
      "text/plain": [
       "array([0., 0., 1., 0., 1., 0., 1., 0., 1., 1.])"
      ]
     },
     "execution_count": 425,
     "metadata": {},
     "output_type": "execute_result"
    }
   ],
   "source": [
    "y"
   ]
  },
  {
   "cell_type": "code",
   "execution_count": 426,
   "metadata": {
    "colab": {},
    "colab_type": "code",
    "id": "M-aO1NTxOUfo"
   },
   "outputs": [],
   "source": [
    "def standard_scale(x):\n",
    "    res = (x - x.mean()) / x.std()\n",
    "    return res"
   ]
  },
  {
   "cell_type": "code",
   "execution_count": 427,
   "metadata": {
    "colab": {},
    "colab_type": "code",
    "id": "D8EL0iGJOVpe"
   },
   "outputs": [],
   "source": [
    "X_st = X.copy()\n",
    "X_st[:, 2] = standard_scale(X[:, 2])"
   ]
  },
  {
   "cell_type": "code",
   "execution_count": 428,
   "metadata": {
    "colab": {
     "base_uri": "https://localhost:8080/",
     "height": 155
    },
    "colab_type": "code",
    "id": "gviMxz7EOuI3",
    "outputId": "af9a2576-f4d7-41d7-e216-46e0a068cfad"
   },
   "outputs": [
    {
     "data": {
      "text/plain": [
       "array([[ 1.        ,  1.        , -0.97958969,  1.        ],\n",
       "       [ 1.        ,  1.        , -0.56713087,  1.        ],\n",
       "       [ 1.        ,  2.        , -0.46401617,  2.        ],\n",
       "       [ 1.        ,  5.        , -0.77336028,  1.        ],\n",
       "       [ 1.        ,  3.        ,  0.97958969,  2.        ],\n",
       "       [ 1.        ,  0.        , -0.36090146,  1.        ],\n",
       "       [ 1.        ,  5.        ,  1.08270439,  3.        ],\n",
       "       [ 1.        , 10.        ,  2.11385144,  3.        ],\n",
       "       [ 1.        ,  1.        , -1.08270439,  1.        ],\n",
       "       [ 1.        ,  2.        ,  0.05155735,  2.        ]])"
      ]
     },
     "execution_count": 428,
     "metadata": {},
     "output_type": "execute_result"
    }
   ],
   "source": [
    "X_st"
   ]
  },
  {
   "cell_type": "markdown",
   "metadata": {},
   "source": [
    "### Задание 1"
   ]
  },
  {
   "cell_type": "markdown",
   "metadata": {},
   "source": [
    "#### *Измените функцию calc_logloss так, чтобы нули по возможности не попадали в np.log."
   ]
  },
  {
   "cell_type": "code",
   "execution_count": 429,
   "metadata": {
    "colab": {},
    "colab_type": "code",
    "id": "qMR5pOA38dDw"
   },
   "outputs": [],
   "source": [
    "def calc_logloss(y, y_pred):\n",
    "    \n",
    "#-----------------------------------------------------------------------------------------------\n",
    "# Было\n",
    "#     err = - np.mean(y * np.log(y_pred) + (1.0 - y) * np.log(1.0 - y_pred))\n",
    "#-----------------------------------------------------------------------------------------------\n",
    "# Стало\n",
    "# В массиве y_pred заменяю \"1\" на число, близкое к \"1\" (1 - 1e-12)\n",
    "\n",
    "    y_pred_new = y_pred.copy()\n",
    "    y_pred_new[y_pred_new == 1] = 1 - 1e-12\n",
    "    err = - np.mean(y * np.log(y_pred_new) + (1.0 - y) * np.log(1.0 - y_pred_new))\n",
    "#-----------------------------------------------------------------------------------------------\n",
    "    return err"
   ]
  },
  {
   "cell_type": "code",
   "execution_count": 430,
   "metadata": {},
   "outputs": [
    {
     "data": {
      "text/plain": [
       "0.05268025782941313"
      ]
     },
     "execution_count": 430,
     "metadata": {},
     "output_type": "execute_result"
    }
   ],
   "source": [
    "# Проверка - Плохой пример применения\n",
    "y1 = np.array([1, 0])\n",
    "y_pred1 = np.array([1, 0.1])\n",
    "calc_logloss(y1, y_pred1)"
   ]
  },
  {
   "cell_type": "markdown",
   "metadata": {},
   "source": [
    "### Задание 2"
   ]
  },
  {
   "cell_type": "markdown",
   "metadata": {},
   "source": [
    "#### Подберите аргументы функции eval_model для логистической регрессии таким образом, чтобы log loss был минимальным."
   ]
  },
  {
   "cell_type": "code",
   "execution_count": 431,
   "metadata": {
    "colab": {},
    "colab_type": "code",
    "id": "qtgUN3LW-UIq"
   },
   "outputs": [],
   "source": [
    "def eval_model(X, y, iterations, eta=1e-4):\n",
    "    result = []\n",
    "    np.random.seed(42)\n",
    "    W = np.random.randn(X.shape[1])\n",
    "    n = X.shape[0]\n",
    "    \n",
    "#------------------------------------------------------------------------------------------------\n",
    "# Стало\n",
    "    err_prev = np.inf\n",
    "    err_delta = np.inf\n",
    "    err_precision = 1e-7\n",
    "    k = iterations // 5      # кратность вывода лога\n",
    "#------------------------------------------------------------------------------------------------\n",
    "    for i in range(iterations):\n",
    "        z = np.dot(X, W)\n",
    "        y_pred = sigmoid(z)\n",
    "        err = calc_logloss(y, y_pred)\n",
    "        \n",
    "        dQ = 1/n * X.T @ (y_pred - y)\n",
    "        W -= eta * dQ\n",
    "#------------------------------------------------------------------------------------------------        \n",
    "# Было\n",
    "#         if i % (iterations / 10) == 0:\n",
    "#     return W\n",
    "#------------------------------------------------------------------------------------------------\n",
    "# Стало\n",
    "        if (i % k == 0) or (i == iterations - 1):\n",
    "            print(f'i = {i}; W = {W}; err = {err}; err_prev = {err_prev}')\n",
    "\n",
    "        # выход из цикла, если ошибка достигла заданной точности\n",
    "        err_delta = abs(err - err_prev)\n",
    "        \n",
    "        if (err_delta < err_precision):\n",
    "            print(f'\\tBreak by error precision:\\n\\t'\\\n",
    "            f'err_prev = {round(err_prev, 8):8}; err = {round(err, 8):8}; err_delta = {round(err_delta, 8):8}')\n",
    "            break\n",
    "            \n",
    "        err_prev = err\n",
    "    result = [i + 1, W, err]\n",
    "    return result\n",
    "#------------------------------------------------------------------------------------------------\n"
   ]
  },
  {
   "cell_type": "code",
   "execution_count": 432,
   "metadata": {},
   "outputs": [
    {
     "name": "stdout",
     "output_type": "stream",
     "text": [
      "list iteration = [10, 100, 1000, 10000, 100000, 1000000]\n",
      "eta = 0.0001\n",
      "----------------------------------------------------------------------------------------------------\n",
      "Variant: 0; Iter = 10\n",
      "----------------------------------------------------------------------------------------------------\n",
      "i = 0; W = [ 0.49667621 -0.13840939  0.6476858   1.52297324]; err = 1.1785958344356262; err_prev = inf\n",
      "i = 2; W = [ 0.49660035 -0.13869953  0.64768032  1.52286003]; err = 1.178081850227778; err_prev = 1.1783388206117205\n",
      "i = 4; W = [ 0.4965245  -0.13898962  0.64767483  1.52274683]; err = 1.1775680398244004; err_prev = 1.1778249232949523\n",
      "i = 6; W = [ 0.49644866 -0.13927966  0.64766933  1.52263365]; err = 1.17705440331467; err_prev = 1.1773111998272563\n",
      "i = 8; W = [ 0.49637284 -0.13956965  0.64766382  1.52252049]; err = 1.1765409407877048; err_prev = 1.1767976502977708\n",
      "i = 9; W = [ 0.49633493 -0.13971462  0.64766106  1.52246391]; err = 1.1762842747955884; err_prev = 1.1765409407877048\n",
      "----------------------------------------------------------------------------------------------------\n",
      "\tResult: Iter = 10; W = [ 0.49633493 -0.13971462  0.64766106  1.52246391]; err = 1.17628427\n",
      "\n",
      "----------------------------------------------------------------------------------------------------\n",
      "Variant: 1; Iter = 100\n",
      "----------------------------------------------------------------------------------------------------\n",
      "i = 0; W = [ 0.49667621 -0.13840939  0.6476858   1.52297324]; err = 1.1785958344356262; err_prev = inf\n",
      "i = 20; W = [ 0.49591822 -0.14130855  0.64763059  1.5218419 ]; err = 1.1734638242468702; err_prev = 1.1737200108079586\n",
      "i = 40; W = [ 0.4951617  -0.14420277  0.64757454  1.52071236]; err = 1.1683492744976867; err_prev = 1.1686045859331382\n",
      "i = 60; W = [ 0.49440667 -0.14709199  0.64751765  1.51958465]; err = 1.1632522735537618; err_prev = 1.1635067054594843\n",
      "i = 80; W = [ 0.49365313 -0.1499762   0.6474599   1.51845877]; err = 1.1581729091849757; err_prev = 1.1584264571865437\n",
      "i = 99; W = [ 0.49293866 -0.15271151  0.64740427  1.51739089]; err = 1.1533639283232127; err_prev = 1.1536166325907806\n",
      "----------------------------------------------------------------------------------------------------\n",
      "\tResult: Iter = 100; W = [ 0.49293866 -0.15271151  0.64740427  1.51739089]; err = 1.15336393\n",
      "\n",
      "----------------------------------------------------------------------------------------------------\n",
      "Variant: 2; Iter = 1000\n",
      "----------------------------------------------------------------------------------------------------\n",
      "i = 0; W = [ 0.49667621 -0.13840939  0.6476858   1.52297324]; err = 1.1785958344356262; err_prev = inf\n",
      "i = 200; W = [ 0.48916364 -0.16717404  0.64709581  1.51174267]; err = 1.1280719326917483; err_prev = 1.128320087022663\n",
      "i = 400; W = [ 0.48180488 -0.19541206  0.64642281  1.50070383]; err = 1.0793710903721336; err_prev = 1.0796099234215144\n",
      "i = 600; W = [ 0.47460588 -0.22308813  0.6456703   1.48986907]; err = 1.0325746582877382; err_prev = 1.0328037733069197\n",
      "i = 800; W = [ 0.46757208 -0.25016581  0.64484403  1.47925157]; err = 0.9877606922922111; err_prev = 0.9879797033688144\n",
      "i = 999; W = [ 0.46074241 -0.27647603  0.64395686  1.46891696]; err = 0.9452148711791688; err_prev = 0.9454234439804937\n",
      "----------------------------------------------------------------------------------------------------\n",
      "\tResult: Iter = 1000; W = [ 0.46074241 -0.27647603  0.64395686  1.46891696]; err = 0.94521487\n",
      "\n",
      "----------------------------------------------------------------------------------------------------\n",
      "Variant: 3; Iter = 10000\n",
      "----------------------------------------------------------------------------------------------------\n",
      "i = 0; W = [ 0.49667621 -0.13840939  0.6476858   1.52297324]; err = 1.1785958344356262; err_prev = inf\n",
      "i = 2000; W = [ 0.42910538 -0.39762907  0.63899133  1.42101856]; err = 0.7649678531356925; err_prev = 0.765117774502237\n",
      "i = 4000; W = [ 0.38047894 -0.5650296   0.63387164  1.35257212]; err = 0.5836344091291391; err_prev = 0.5836774145473647\n",
      "i = 6000; W = [ 0.34723076 -0.64431226  0.63950668  1.31708294]; err = 0.5382593304625718; err_prev = 0.5382699679862313\n",
      "i = 8000; W = [ 0.32196306 -0.68156712  0.65034185  1.29871977]; err = 0.5254818665326442; err_prev = 0.5254856093840208\n",
      "i = 9999; W = [ 0.30086145 -0.7000972   0.6630387   1.28881227]; err = 0.5201522304551885; err_prev = 0.5201541803363425\n",
      "----------------------------------------------------------------------------------------------------\n",
      "\tResult: Iter = 10000; W = [ 0.30086145 -0.7000972   0.6630387   1.28881227]; err = 0.52015223\n",
      "\n",
      "----------------------------------------------------------------------------------------------------\n",
      "Variant: 4; Iter = 100000\n",
      "----------------------------------------------------------------------------------------------------\n",
      "i = 0; W = [ 0.49667621 -0.13840939  0.6476858   1.52297324]; err = 1.1785958344356262; err_prev = inf\n",
      "i = 20000; W = [ 0.21871381 -0.71695701  0.72733591  1.28031405]; err = 0.5084284623865897; err_prev = 0.5084293437598224\n",
      "i = 40000; W = [ 0.09284027 -0.71710202  0.82366919  1.30615742]; err = 0.4953749740011232; err_prev = 0.4953754611512321\n",
      "i = 60000; W = [-0.00702645 -0.7256221   0.88536634  1.35090215]; err = 0.4873917229674506; err_prev = 0.48739205693400456\n",
      "i = 80000; W = [-0.09152177 -0.73866018  0.92530946  1.40500779]; err = 0.48145570893707534; err_prev = 0.48145597679032415\n",
      "i = 99999; W = [-0.16688204 -0.75342084  0.95135951  1.46311212]; err = 0.47647213803775895; err_prev = 0.47647237169730977\n",
      "----------------------------------------------------------------------------------------------------\n",
      "\tResult: Iter = 100000; W = [-0.16688204 -0.75342084  0.95135951  1.46311212]; err = 0.47647214\n",
      "\n",
      "----------------------------------------------------------------------------------------------------\n",
      "Variant: 5; Iter = 1000000\n",
      "----------------------------------------------------------------------------------------------------\n",
      "i = 0; W = [ 0.49667621 -0.13840939  0.6476858   1.52297324]; err = 1.1785958344356262; err_prev = inf\n",
      "i = 200000; W = [-0.49163755 -0.82092348  0.98621089  1.74686369]; err = 0.4571596406708191; err_prev = 0.4571598063640857\n",
      "i = 400000; W = [-1.06973006 -0.8940922   0.89602148  2.19768709]; err = 0.4294485656505822; err_prev = 0.4294486849155529\n",
      "\tBreak by error precision:\n",
      "\terr_prev = 0.41132649; err = 0.41132639; err_delta =    1e-07\n",
      "----------------------------------------------------------------------------------------------------\n",
      "\tResult: Iter = 566270; W = [-1.51040014 -0.92057939  0.76778342  2.49704822]; err = 0.41132639\n",
      "\n",
      "----------------------------------------------------------------------------------------------------\n",
      "List errors:\n",
      "\t [1.17628427, 1.15336393, 0.94521487, 0.52015223, 0.47647214, 0.41132639]\n",
      "\n",
      "Best result:\n",
      "\tVariant = 5; Iter = 566270; W = [-1.51040014 -0.92057939  0.76778342  2.49704822]; err = 0.41132639\n"
     ]
    }
   ],
   "source": [
    "# перебор нескольких вариантов для разного числа итераций, определение наименьшей ошибки\n",
    "\n",
    "iter_list = [10**i for i in range(1, 7)]\n",
    "eta = 1e-4\n",
    "res_list = []     # список полученных результатов \n",
    "var_best = -1     # номер лучшего варианта\n",
    "err_min = np.inf  # наименьшая ошибка\n",
    "i = 0\n",
    "\n",
    "print(f'list iteration = {iter_list}')\n",
    "print(f'eta = {eta}')\n",
    "print (100 * '-')\n",
    "\n",
    "for i, iter in enumerate(iter_list):\n",
    "\n",
    "    print(f'Variant: {i}; Iter = {iter}')\n",
    "    print (100 * '-')\n",
    "    \n",
    "    res = eval_model(X_st, y, iter, eta=1e-4)\n",
    "    res_list.append(res)\n",
    "    \n",
    "    # ошибка для i-го варианта\n",
    "    err = res[2]\n",
    "    if (err < err_min):\n",
    "        err_min = err\n",
    "        var_best = i\n",
    "\n",
    "    print (100 * '-')\n",
    "    print (f'\\tResult: Iter = {res[0]}; W = {res[1]}; err = {round(res[2], 8)}')\n",
    "\n",
    "    print ('\\n' + 100 * '-')\n",
    "    \n",
    "# список ошибок для всех вариантов\n",
    "err_list = []\n",
    "for res in res_list:\n",
    "    err_list.append(round(res[2], 8))\n",
    "\n",
    "print(f'List errors:\\n\\t {err_list}')\n",
    "\n",
    "# вывод лучшего результата\n",
    "W = res_list[var_best][1]\n",
    "print (f'\\nBest result:\\n\\tVariant = {var_best}; Iter = {res_list[var_best][0]}; \\\n",
    "W = {res_list[var_best][1]}; err = {round(res_list[var_best][2], 8)}')\n"
   ]
  },
  {
   "cell_type": "markdown",
   "metadata": {},
   "source": [
    "### Задание 3."
   ]
  },
  {
   "cell_type": "markdown",
   "metadata": {},
   "source": [
    "#### Создайте функцию calc_pred_proba, возвращающую предсказанную вероятность класса 1 (на вход подаются W, который уже посчитан функцией eval_model и X, на выходе - массив y_pred_proba)."
   ]
  },
  {
   "cell_type": "code",
   "execution_count": 433,
   "metadata": {},
   "outputs": [
    {
     "name": "stdout",
     "output_type": "stream",
     "text": [
      "W = [-1.51040014 -0.92057939  0.76778342  2.49704822]\n",
      "X = [[ 1.          1.         -0.97958969  1.        ]\n",
      " [ 1.          1.         -0.56713087  1.        ]\n",
      " [ 1.          2.         -0.46401617  2.        ]\n",
      " [ 1.          5.         -0.77336028  1.        ]\n",
      " [ 1.          3.          0.97958969  2.        ]\n",
      " [ 1.          0.         -0.36090146  1.        ]\n",
      " [ 1.          5.          1.08270439  3.        ]\n",
      " [ 1.         10.          2.11385144  3.        ]\n",
      " [ 1.          1.         -1.08270439  1.        ]\n",
      " [ 1.          2.          0.05155735  2.        ]]\n"
     ]
    }
   ],
   "source": [
    "print(f'W = {W}')\n",
    "print(f'X = {X_st}')"
   ]
  },
  {
   "cell_type": "code",
   "execution_count": 434,
   "metadata": {},
   "outputs": [],
   "source": [
    "def sigmoid(z):\n",
    "    res = 1.0 / (1 + np.exp(-z))\n",
    "    return res"
   ]
  },
  {
   "cell_type": "code",
   "execution_count": 435,
   "metadata": {},
   "outputs": [],
   "source": [
    "def calc_pred_proba(w, X):\n",
    "    return np.squeeze(sigmoid(np.dot(X, w)))"
   ]
  },
  {
   "cell_type": "code",
   "execution_count": 436,
   "metadata": {},
   "outputs": [
    {
     "name": "stdout",
     "output_type": "stream",
     "text": [
      "Вероятность принадлежности объектов классу 1:\n",
      "\ti = 0;\t P = 0.3349\n",
      "\ti = 1;\t P = 0.4087\n",
      "\ti = 2;\t P = 0.7835\n",
      "\ti = 3;\t P = 0.0146\n",
      "\ti = 4;\t P = 0.8137\n",
      "\ti = 5;\t P = 0.6703\n",
      "\ti = 6;\t P = 0.9011\n",
      "\ti = 7;\t P = 0.1677\n",
      "\ti = 8;\t P = 0.3175\n",
      "\ti = 9;\t P = 0.8432\n"
     ]
    }
   ],
   "source": [
    "P_list = calc_pred_proba(W, X_st)\n",
    "\n",
    "print('Вероятность принадлежности объектов классу 1:')\n",
    "for i, p in enumerate(P_list):\n",
    "    print(f'\\ti = {i};\\t P = {round(p, 4):4}')"
   ]
  },
  {
   "cell_type": "markdown",
   "metadata": {},
   "source": [
    "### Задание 4"
   ]
  },
  {
   "cell_type": "markdown",
   "metadata": {},
   "source": [
    "#### Создайте функцию calc_pred, возвращающую предсказанный класс (на вход подаются W, который уже посчитан функцией eval_model и X, на выходе - массив y_pred)."
   ]
  },
  {
   "cell_type": "code",
   "execution_count": 437,
   "metadata": {},
   "outputs": [],
   "source": [
    "def calc_pred(w, X):\n",
    "    \n",
    "    m = X.shape[0]\n",
    "    y_predicted = np.zeros(m)\n",
    "    P = calc_pred_proba(w, X)\n",
    "\n",
    "    # Порог отнесения к классам - P = 0.5\n",
    "    for i in range(P.shape[0]):\n",
    "        if (P[i] > 0.5): \n",
    "            y_predicted[i] = 1\n",
    "        else:\n",
    "            y_predicted[i] = 0\n",
    "\n",
    "    return list(map(int, y_predicted))"
   ]
  },
  {
   "cell_type": "code",
   "execution_count": 438,
   "metadata": {},
   "outputs": [
    {
     "name": "stdout",
     "output_type": "stream",
     "text": [
      "[0, 0, 1, 0, 1, 1, 1, 0, 0, 1]\n",
      "\n",
      "Предсказанная принадлежность объектов к классам:\n",
      "\ti = 0;\t class_pred = 0;\t class fact = 0;\t error = 0\n",
      "\ti = 1;\t class_pred = 0;\t class fact = 0;\t error = 0\n",
      "\ti = 2;\t class_pred = 1;\t class fact = 1;\t error = 0\n",
      "\ti = 3;\t class_pred = 0;\t class fact = 0;\t error = 0\n",
      "\ti = 4;\t class_pred = 1;\t class fact = 1;\t error = 0\n",
      "\ti = 5;\t class_pred = 1;\t class fact = 0;\t error = 1\n",
      "\ti = 6;\t class_pred = 1;\t class fact = 1;\t error = 0\n",
      "\ti = 7;\t class_pred = 0;\t class fact = 0;\t error = 0\n",
      "\ti = 8;\t class_pred = 0;\t class fact = 1;\t error = 1\n",
      "\ti = 9;\t class_pred = 1;\t class fact = 1;\t error = 0\n"
     ]
    }
   ],
   "source": [
    "y_pred = calc_pred(W, X_st)\n",
    "print(y_pred)\n",
    "\n",
    "print('\\nПредсказанная принадлежность объектов к классам:')\n",
    "for i, class_pred in enumerate(y_pred):\n",
    "    print(f'\\ti = {i};\\t class_pred = {class_pred};\\t class fact = {int(y[i])};\\t error = {abs(class_pred - int(y[i]))}')"
   ]
  },
  {
   "cell_type": "markdown",
   "metadata": {},
   "source": [
    "### Задание 5"
   ]
  },
  {
   "cell_type": "markdown",
   "metadata": {},
   "source": [
    "#### *Реализуйте функции для подсчета Accuracy, матрицы ошибок, точности и полноты, а также F1 score."
   ]
  },
  {
   "cell_type": "markdown",
   "metadata": {},
   "source": [
    "#### Accuracy"
   ]
  },
  {
   "cell_type": "code",
   "execution_count": 439,
   "metadata": {},
   "outputs": [],
   "source": [
    "# Оценка качества: показатель Accuracy\n",
    "\n",
    "def calc_accuracy(y_pred, y_test):\n",
    "    return np.mean(y_pred == y_test)"
   ]
  },
  {
   "cell_type": "code",
   "execution_count": 440,
   "metadata": {},
   "outputs": [
    {
     "name": "stdout",
     "output_type": "stream",
     "text": [
      "Accuracy = 0.8\n"
     ]
    }
   ],
   "source": [
    "accuracy = calc_accuracy(y_pred, y)\n",
    "print(f'Accuracy = {accuracy}')"
   ]
  },
  {
   "cell_type": "markdown",
   "metadata": {},
   "source": [
    "#### Error Matrix"
   ]
  },
  {
   "cell_type": "code",
   "execution_count": 441,
   "metadata": {},
   "outputs": [],
   "source": [
    "# Оценка качества: Матрица ошибок\n",
    "\n",
    "def calc_error_matrix(y_pred, y_test):\n",
    "\n",
    "    TP = FP = FN = TN = 0\n",
    "    for i, pred in enumerate(y_pred):\n",
    "    \n",
    "        test = y_test[i]\n",
    "        if pred == 1 and test == 1:\n",
    "            TP += 1                    # True Positive\n",
    "        elif pred == 1 and test == 0:\n",
    "            FP += 1                    # False Positive\n",
    "        elif pred == 0 and test == 1:\n",
    "            FN += 1                    # False Negative\n",
    "        else:\n",
    "            TN += 1                    # True Negative\n",
    "    \n",
    "    # сама матрица ошибок\n",
    "    error_matrix = np.zeros( (2, 2), dtype = np.int32)\n",
    "    \n",
    "    error_matrix[0, 0] = TP\n",
    "    error_matrix[0, 1] = FP\n",
    "    error_matrix[1, 0] = FN\n",
    "    error_matrix[1, 1] = TN\n",
    "    \n",
    "    return error_matrix"
   ]
  },
  {
   "cell_type": "code",
   "execution_count": 442,
   "metadata": {},
   "outputs": [],
   "source": [
    "a = np.zeros( (2, 2), dtype = np.int32)"
   ]
  },
  {
   "cell_type": "code",
   "execution_count": 443,
   "metadata": {},
   "outputs": [
    {
     "name": "stdout",
     "output_type": "stream",
     "text": [
      "Матрица ошибок:\n",
      "\n",
      "[[4 1]\n",
      " [1 4]]\n"
     ]
    }
   ],
   "source": [
    "print('Матрица ошибок:\\n')\n",
    "print(f'{calc_error_matrix(y_pred, y)}')"
   ]
  },
  {
   "cell_type": "markdown",
   "metadata": {},
   "source": [
    "#### Precision"
   ]
  },
  {
   "cell_type": "code",
   "execution_count": 444,
   "metadata": {},
   "outputs": [],
   "source": [
    "# Оценка качества: Точность (Precision)\n",
    "\n",
    "def calc_precision(y_pred, y_test):\n",
    "\n",
    "    error_matrix = calc_error_matrix(y_pred, y_test)\n",
    "    result = 0\n",
    "    \n",
    "    if error_matrix[0, 0] + error_matrix[0, 1] != 0:\n",
    "        result = error_matrix[0, 0] / (error_matrix[0, 0] + error_matrix[0, 1])\n",
    "    \n",
    "    return result"
   ]
  },
  {
   "cell_type": "code",
   "execution_count": 445,
   "metadata": {},
   "outputs": [
    {
     "name": "stdout",
     "output_type": "stream",
     "text": [
      "Точность = 0.8\n"
     ]
    }
   ],
   "source": [
    "print(f'Точность = {calc_precision(y_pred, y)}')"
   ]
  },
  {
   "cell_type": "markdown",
   "metadata": {},
   "source": [
    "#### Recall"
   ]
  },
  {
   "cell_type": "code",
   "execution_count": 446,
   "metadata": {},
   "outputs": [],
   "source": [
    "# Оценка качества: Полнота (Recall)\n",
    "\n",
    "def calc_recall(y_pred, y_test):\n",
    "\n",
    "    error_matrix = calc_error_matrix(y_pred, y_test)\n",
    "    result = 0\n",
    "    \n",
    "    if error_matrix[0, 0] + error_matrix[1, 0] != 0:\n",
    "        result = error_matrix[0, 0] / (error_matrix[0, 0] + error_matrix[1, 0])\n",
    "    \n",
    "    return result"
   ]
  },
  {
   "cell_type": "code",
   "execution_count": 447,
   "metadata": {},
   "outputs": [
    {
     "name": "stdout",
     "output_type": "stream",
     "text": [
      "Полнота = 0.8\n"
     ]
    }
   ],
   "source": [
    "print(f'Полнота = {calc_recall(y_pred, y)}')"
   ]
  },
  {
   "cell_type": "markdown",
   "metadata": {},
   "source": [
    "#### F1 score"
   ]
  },
  {
   "cell_type": "code",
   "execution_count": 448,
   "metadata": {},
   "outputs": [],
   "source": [
    "# Оценка качества: F1 score\n",
    "\n",
    "def calc_F1_score(y_pred, y_test):\n",
    "\n",
    "    precision = calc_precision(y_pred, y_test)\n",
    "    recall    = calc_recall(y_pred, y_test)\n",
    "    result = 0\n",
    "    \n",
    "    if precision + recall != 0:\n",
    "        result = round(2 * precision * recall / (precision + recall), 6)\n",
    "    \n",
    "    return result"
   ]
  },
  {
   "cell_type": "code",
   "execution_count": 449,
   "metadata": {},
   "outputs": [
    {
     "name": "stdout",
     "output_type": "stream",
     "text": [
      "F1 score = 0.8\n"
     ]
    }
   ],
   "source": [
    "print(f'F1 score = {calc_F1_score(y_pred, y)}')"
   ]
  },
  {
   "cell_type": "markdown",
   "metadata": {},
   "source": [
    "### Задание 6"
   ]
  },
  {
   "cell_type": "markdown",
   "metadata": {},
   "source": [
    "#### Могла ли модель переобучиться? Почему?"
   ]
  },
  {
   "cell_type": "code",
   "execution_count": 450,
   "metadata": {},
   "outputs": [
    {
     "name": "stdout",
     "output_type": "stream",
     "text": [
      "Веса W = [-1.51040014 -0.92057939  0.76778342  2.49704822]\n"
     ]
    }
   ],
   "source": [
    "print(f'Веса W = {W}')"
   ]
  },
  {
   "cell_type": "markdown",
   "metadata": {},
   "source": [
    "Веса у модели получились небольшие, поэтому, скорее всего, переобучения модели не было."
   ]
  }
 ],
 "metadata": {
  "colab": {
   "collapsed_sections": [],
   "name": "Lesson_3.ipynb",
   "provenance": []
  },
  "kernelspec": {
   "display_name": "Python 3",
   "language": "python",
   "name": "python3"
  },
  "language_info": {
   "codemirror_mode": {
    "name": "ipython",
    "version": 3
   },
   "file_extension": ".py",
   "mimetype": "text/x-python",
   "name": "python",
   "nbconvert_exporter": "python",
   "pygments_lexer": "ipython3",
   "version": "3.7.6"
  }
 },
 "nbformat": 4,
 "nbformat_minor": 1
}

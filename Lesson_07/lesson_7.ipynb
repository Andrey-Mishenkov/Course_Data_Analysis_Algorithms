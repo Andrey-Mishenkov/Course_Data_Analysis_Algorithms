{
 "cells": [
  {
   "cell_type": "code",
   "execution_count": 326,
   "metadata": {
    "id": "ChmkZ71kuf9-"
   },
   "outputs": [],
   "source": [
    "import numpy as np\n",
    "from sklearn.model_selection import train_test_split\n",
    "from sklearn.datasets import load_iris\n",
    "import matplotlib.pyplot as plt\n",
    "from matplotlib.colors import ListedColormap"
   ]
  },
  {
   "cell_type": "code",
   "execution_count": 327,
   "metadata": {
    "id": "_49Y22E9uf-C"
   },
   "outputs": [],
   "source": [
    "X, y = load_iris(return_X_y=True)\n",
    "\n",
    "# Для наглядности возьмем только первые два признака (всего в датасете их 4)\n",
    "X = X[:, :2]"
   ]
  },
  {
   "cell_type": "code",
   "execution_count": 328,
   "metadata": {
    "id": "ACYClLghuf-F"
   },
   "outputs": [
    {
     "data": {
      "text/plain": [
       "((90, 2), (60, 2))"
      ]
     },
     "execution_count": 328,
     "metadata": {},
     "output_type": "execute_result"
    }
   ],
   "source": [
    "X_train, X_test, y_train, y_test = train_test_split(X, y,\n",
    "                                                    test_size=0.4,\n",
    "                                                    random_state=1,\n",
    "                                                    stratify=y)\n",
    "X_train.shape, X_test.shape"
   ]
  },
  {
   "cell_type": "code",
   "execution_count": 329,
   "metadata": {
    "id": "Johgj2p6uf-J",
    "outputId": "081c6165-bd71-4800-9ab1-78646f5489fd",
    "scrolled": false
   },
   "outputs": [
    {
     "data": {
      "image/png": "[encoded data removed]",
      "text/plain": [
       "<Figure size 504x504 with 1 Axes>"
      ]
     },
     "metadata": {
      "needs_background": "light"
     },
     "output_type": "display_data"
    }
   ],
   "source": [
    "cmap = ListedColormap(['red', 'green', 'blue'])\n",
    "plt.figure(figsize=(7, 7))\n",
    "plt.scatter(X[:, 0], X[:, 1], c=y, cmap=cmap);"
   ]
  },
  {
   "cell_type": "code",
   "execution_count": 330,
   "metadata": {
    "id": "MKipIKeGuf-P"
   },
   "outputs": [],
   "source": [
    "def e_metrics(x1, x2):\n",
    "    distance = np.sum(np.square(x1 - x2))\n",
    "    return np.sqrt(distance)"
   ]
  },
  {
   "cell_type": "code",
   "execution_count": 331,
   "metadata": {
    "id": "eK2Bn_7ouf-Y"
   },
   "outputs": [],
   "source": [
    "def accuracy(pred, y):\n",
    "    return (sum(pred == y) / len(y))"
   ]
  },
  {
   "cell_type": "code",
   "execution_count": 332,
   "metadata": {
    "id": "vN4DDyMauf-e"
   },
   "outputs": [],
   "source": [
    "def get_graph(X_train, y_train, k):\n",
    "    cmap_light = ListedColormap(['#FFAAAA', '#AAFFAA','#00AAFF'])\n",
    "\n",
    "    h = .1\n",
    "\n",
    "    # Расчет пределов графика\n",
    "    x_min, x_max = X_train[:, 0].min() - 1, X_train[:, 0].max() + 1\n",
    "    y_min, y_max = X_train[:, 1].min() - 1, X_train[:, 1].max() + 1\n",
    "    xx, yy = np.meshgrid(np.arange(x_min, x_max, h), np.arange(y_min, y_max, h))\n",
    "    print(np.c_[xx.ravel(), yy.ravel()].shape)\n",
    "\n",
    "    # Получим предсказания для всех точек\n",
    "    Z = knn(X_train, y_train, np.c_[xx.ravel(), yy.ravel()], k, False)\n",
    "    # Построим график\n",
    "    Z = np.array(Z).reshape(xx.shape)\n",
    "    plt.figure(figsize=(7,7))\n",
    "    plt.pcolormesh(xx, yy, Z, cmap=cmap_light)\n",
    "\n",
    "    # Добавим на график обучающую выборку\n",
    "    plt.scatter(X_train[:, 0], X_train[:, 1], c=y_train, cmap=cmap)\n",
    "    plt.xlim(xx.min(), xx.max())\n",
    "    plt.ylim(yy.min(), yy.max())\n",
    "    plt.title(f\"Трехклассовая kNN классификация при k = {k}\")\n",
    "    plt.show()"
   ]
  },
  {
   "cell_type": "markdown",
   "metadata": {
    "id": "ANWmZgT2uf99"
   },
   "source": [
    "### Задание 1"
   ]
  },
  {
   "cell_type": "markdown",
   "metadata": {},
   "source": [
    "#### К алгоритму kNN, реализованному на уроке, реализовать добавление весов для соседей по любому из показанных на уроке принципов."
   ]
  },
  {
   "cell_type": "code",
   "execution_count": 333,
   "metadata": {
    "id": "LIKuDr9huf-V"
   },
   "outputs": [],
   "source": [
    "def knn(x_train, y_train, x_test, k, variant, is_debug = False):\n",
    "    \n",
    "    if is_debug:\n",
    "        print(variant + ' method')\n",
    "        print()\n",
    "        \n",
    "    answers = []\n",
    "    for index, x in enumerate(x_test):\n",
    "        test_distances = []\n",
    "            \n",
    "        for i in range(len(x_train)):\n",
    "            \n",
    "            # расчет расстояния от классифицируемого объекта до объекта обучающей выборки\n",
    "            distance = e_metrics(x, x_train[i])\n",
    "            \n",
    "            # Записываем в список значение расстояния и ответа на объекте обучающей выборки\n",
    "            test_distances.append((round(distance, 6), y_train[i]))\n",
    "        \n",
    "        #----------------------------------------------------------------------------------------\n",
    "        # создаем словари со всеми возможными классами для классического метода и метода с весами (два метода - для сравнения)\n",
    "        classes        = {class_item: 0 for class_item in set(y_train)}\n",
    "        classes_weight = {class_item: 0 for class_item in set(y_train)}\n",
    "\n",
    "        #----------------------------------------------------------------------------------------\n",
    "        # Сортируем список и среди первых k элементов подсчитаем:\n",
    "        # - частоту появления разных классов\n",
    "        # - вес объектов через расстояние до объекта q ** d\n",
    "        q = 0.5\n",
    "        for d in sorted(test_distances)[0:k]:\n",
    "            \n",
    "            classes[d[1]] += 1                           # классический метод\n",
    "            classes_weight[d[1]] += round(q ** d[0], 6)  # метод с весами\n",
    "        \n",
    "        # выбиhаю классы классическим методом и методом с весами\n",
    "        method_classic = sorted(classes, key = classes.get)[-1]\n",
    "        method_weight  = sorted(classes, key = classes_weight.get)[-1]\n",
    "        class_diff = method_weight - method_classic\n",
    "        \n",
    "        if is_debug:\n",
    "            print(f'i = {index}; class = {method_classic}; class_weight = {method_weight}; diff = {class_diff}; classes = {classes}; classes_weight = {classes_weight}')\n",
    "\n",
    "        #----------------------------------------------------------------------------------------\n",
    "        # В список ответов записываю класс с максимальным весом\n",
    "        if (variant == 'classic'):\n",
    "            answers.append(method_classic)\n",
    "        else:\n",
    "            answers.append(method_weight)\n",
    "        \n",
    "    return answers"
   ]
  },
  {
   "cell_type": "code",
   "execution_count": 334,
   "metadata": {
    "scrolled": false
   },
   "outputs": [
    {
     "name": "stdout",
     "output_type": "stream",
     "text": [
      "weight method\n",
      "\n",
      "i = 0; class = 0; class_weight = 0; diff = 0; classes = {0: 4, 1: 0, 2: 0}; classes_weight = {0: 3.7894550000000002, 1: 0, 2: 0}\n",
      "i = 1; class = 2; class_weight = 2; diff = 0; classes = {0: 0, 1: 0, 2: 4}; classes_weight = {0: 0, 1: 0, 2: 3.235057}\n",
      "i = 2; class = 0; class_weight = 0; diff = 0; classes = {0: 4, 1: 0, 2: 0}; classes_weight = {0: 3.66965, 1: 0, 2: 0}\n",
      "i = 3; class = 2; class_weight = 2; diff = 0; classes = {0: 0, 1: 0, 2: 4}; classes_weight = {0: 0, 1: 0, 2: 3.705725}\n",
      "i = 4; class = 2; class_weight = 2; diff = 0; classes = {0: 0, 1: 0, 2: 4}; classes_weight = {0: 0, 1: 0, 2: 3.2126309999999996}\n",
      "i = 5; class = 2; class_weight = 2; diff = 0; classes = {0: 0, 1: 1, 2: 3}; classes_weight = {0: 0, 1: 0.906626, 2: 2.599147}\n",
      "i = 6; class = 1; class_weight = 1; diff = 0; classes = {0: 0, 1: 4, 2: 0}; classes_weight = {0: 0, 1: 3.222121, 2: 0}\n",
      "i = 7; class = 2; class_weight = 2; diff = 0; classes = {0: 0, 1: 1, 2: 3}; classes_weight = {0: 0, 1: 0.803167, 2: 2.431576}\n",
      "i = 8; class = 2; class_weight = 1; diff = -1; classes = {0: 0, 1: 2, 2: 2}; classes_weight = {0: 0, 1: 1.509277, 2: 1.503077}\n",
      "i = 9; class = 0; class_weight = 0; diff = 0; classes = {0: 4, 1: 0, 2: 0}; classes_weight = {0: 3.799099, 1: 0, 2: 0}\n",
      "i = 10; class = 1; class_weight = 1; diff = 0; classes = {0: 0, 1: 3, 2: 1}; classes_weight = {0: 0, 1: 2.7462850000000003, 2: 0.933033}\n",
      "i = 11; class = 0; class_weight = 0; diff = 0; classes = {0: 4, 1: 0, 2: 0}; classes_weight = {0: 3.799099, 1: 0, 2: 0}\n",
      "i = 12; class = 2; class_weight = 2; diff = 0; classes = {0: 0, 1: 2, 2: 2}; classes_weight = {0: 0, 1: 1.789455, 2: 1.866066}\n",
      "i = 13; class = 2; class_weight = 2; diff = 0; classes = {0: 0, 1: 1, 2: 3}; classes_weight = {0: 0, 1: 0.82197, 2: 2.661629}\n",
      "i = 14; class = 2; class_weight = 2; diff = 0; classes = {0: 0, 1: 1, 2: 3}; classes_weight = {0: 0, 1: 0.856422, 2: 2.373277}\n",
      "i = 15; class = 1; class_weight = 1; diff = 0; classes = {0: 0, 1: 3, 2: 1}; classes_weight = {0: 0, 1: 2.7462850000000003, 2: 0.933033}\n",
      "i = 16; class = 1; class_weight = 1; diff = 0; classes = {0: 0, 1: 3, 2: 1}; classes_weight = {0: 0, 1: 2.7462850000000003, 2: 0.933033}\n",
      "i = 17; class = 1; class_weight = 1; diff = 0; classes = {0: 0, 1: 3, 2: 1}; classes_weight = {0: 0, 1: 2.5160109999999998, 2: 0.856422}\n",
      "i = 18; class = 1; class_weight = 1; diff = 0; classes = {0: 0, 1: 4, 2: 0}; classes_weight = {0: 0, 1: 3.643243, 2: 0}\n",
      "i = 19; class = 2; class_weight = 1; diff = -1; classes = {0: 0, 1: 2, 2: 2}; classes_weight = {0: 0, 1: 1.709793, 2: 1.673718}\n",
      "i = 20; class = 0; class_weight = 0; diff = 0; classes = {0: 4, 1: 0, 2: 0}; classes_weight = {0: 2.83077, 1: 0, 2: 0}\n",
      "i = 21; class = 0; class_weight = 0; diff = 0; classes = {0: 4, 1: 0, 2: 0}; classes_weight = {0: 3.799099, 1: 0, 2: 0}\n",
      "i = 22; class = 2; class_weight = 2; diff = 0; classes = {0: 0, 1: 1, 2: 3}; classes_weight = {0: 0, 1: 0.870551, 2: 2.7630480000000004}\n",
      "i = 23; class = 0; class_weight = 0; diff = 0; classes = {0: 4, 1: 0, 2: 0}; classes_weight = {0: 3.473881, 1: 0, 2: 0}\n",
      "i = 24; class = 1; class_weight = 1; diff = 0; classes = {0: 0, 1: 4, 2: 0}; classes_weight = {0: 0, 1: 3.590429, 2: 0}\n",
      "i = 25; class = 1; class_weight = 1; diff = 0; classes = {0: 0, 1: 3, 2: 1}; classes_weight = {0: 0, 1: 2.772692, 2: 0.933033}\n",
      "i = 26; class = 1; class_weight = 1; diff = 0; classes = {0: 0, 1: 3, 2: 1}; classes_weight = {0: 0, 1: 2.777177, 2: 0.933033}\n",
      "i = 27; class = 0; class_weight = 0; diff = 0; classes = {0: 4, 1: 0, 2: 0}; classes_weight = {0: 3.3521099999999997, 1: 0, 2: 0}\n",
      "i = 28; class = 2; class_weight = 1; diff = -1; classes = {0: 0, 1: 2, 2: 2}; classes_weight = {0: 0, 1: 1.933033, 2: 1.8396590000000002}\n",
      "i = 29; class = 0; class_weight = 0; diff = 0; classes = {0: 4, 1: 0, 2: 0}; classes_weight = {0: 3.5180510000000003, 1: 0, 2: 0}\n",
      "i = 30; class = 0; class_weight = 0; diff = 0; classes = {0: 4, 1: 0, 2: 0}; classes_weight = {0: 3.453946, 1: 0, 2: 0}\n",
      "i = 31; class = 1; class_weight = 1; diff = 0; classes = {0: 0, 1: 3, 2: 1}; classes_weight = {0: 0, 1: 2.839659, 2: 0.933033}\n",
      "i = 32; class = 2; class_weight = 1; diff = -1; classes = {0: 0, 1: 2, 2: 2}; classes_weight = {0: 0, 1: 1.933033, 2: 1.8396590000000002}\n",
      "i = 33; class = 2; class_weight = 2; diff = 0; classes = {0: 0, 1: 2, 2: 2}; classes_weight = {0: 0, 1: 1.777177, 2: 1.777177}\n",
      "i = 34; class = 2; class_weight = 2; diff = 0; classes = {0: 0, 1: 0, 2: 4}; classes_weight = {0: 0, 1: 0, 2: 3.705725}\n",
      "i = 35; class = 0; class_weight = 0; diff = 0; classes = {0: 4, 1: 0, 2: 0}; classes_weight = {0: 3.5833950000000003, 1: 0, 2: 0}\n",
      "i = 36; class = 0; class_weight = 0; diff = 0; classes = {0: 4, 1: 0, 2: 0}; classes_weight = {0: 3.6793180000000003, 1: 0, 2: 0}\n",
      "i = 37; class = 0; class_weight = 0; diff = 0; classes = {0: 4, 1: 0, 2: 0}; classes_weight = {0: 3.5753000000000004, 1: 0, 2: 0}\n",
      "i = 38; class = 0; class_weight = 0; diff = 0; classes = {0: 4, 1: 0, 2: 0}; classes_weight = {0: 3.6458770000000005, 1: 0, 2: 0}\n",
      "i = 39; class = 2; class_weight = 2; diff = 0; classes = {0: 0, 1: 2, 2: 2}; classes_weight = {0: 0, 1: 1.777177, 2: 1.777177}\n",
      "i = 40; class = 2; class_weight = 2; diff = 0; classes = {0: 0, 1: 1, 2: 3}; classes_weight = {0: 0, 1: 0.906626, 2: 2.736617}\n",
      "i = 41; class = 2; class_weight = 2; diff = 0; classes = {0: 0, 1: 1, 2: 3}; classes_weight = {0: 0, 1: 0.856422, 2: 2.56832}\n",
      "i = 42; class = 0; class_weight = 0; diff = 0; classes = {0: 4, 1: 0, 2: 0}; classes_weight = {0: 3.6027070000000005, 1: 0, 2: 0}\n",
      "i = 43; class = 0; class_weight = 0; diff = 0; classes = {0: 4, 1: 0, 2: 0}; classes_weight = {0: 3.3521099999999997, 1: 0, 2: 0}\n",
      "i = 44; class = 2; class_weight = 2; diff = 0; classes = {0: 0, 1: 2, 2: 2}; classes_weight = {0: 0, 1: 1.777177, 2: 1.777177}\n",
      "i = 45; class = 1; class_weight = 1; diff = 0; classes = {0: 2, 1: 2, 2: 0}; classes_weight = {0: 1.4357280000000001, 1: 1.635287, 2: 0}\n",
      "i = 46; class = 1; class_weight = 1; diff = 0; classes = {0: 0, 1: 3, 2: 1}; classes_weight = {0: 0, 1: 2.7462850000000003, 2: 0.933033}\n",
      "i = 47; class = 0; class_weight = 0; diff = 0; classes = {0: 4, 1: 0, 2: 0}; classes_weight = {0: 3.6027070000000005, 1: 0, 2: 0}\n",
      "i = 48; class = 0; class_weight = 0; diff = 0; classes = {0: 4, 1: 0, 2: 0}; classes_weight = {0: 3.409776, 1: 0, 2: 0}\n",
      "i = 49; class = 1; class_weight = 1; diff = 0; classes = {0: 1, 1: 3, 2: 0}; classes_weight = {0: 0.751419, 1: 2.403264, 2: 0}\n",
      "i = 50; class = 2; class_weight = 2; diff = 0; classes = {0: 0, 1: 2, 2: 2}; classes_weight = {0: 0, 1: 1.8705509999999999, 2: 1.9066260000000002}\n",
      "i = 51; class = 1; class_weight = 1; diff = 0; classes = {0: 0, 1: 4, 2: 0}; classes_weight = {0: 0, 1: 3.593039, 2: 0}\n",
      "i = 52; class = 1; class_weight = 1; diff = 0; classes = {0: 0, 1: 4, 2: 0}; classes_weight = {0: 0, 1: 3.772692, 2: 0}\n",
      "i = 53; class = 2; class_weight = 2; diff = 0; classes = {0: 0, 1: 1, 2: 3}; classes_weight = {0: 0, 1: 0.906626, 2: 2.839659}\n",
      "i = 54; class = 1; class_weight = 1; diff = 0; classes = {0: 0, 1: 4, 2: 0}; classes_weight = {0: 0, 1: 3.643243, 2: 0}\n",
      "i = 55; class = 1; class_weight = 1; diff = 0; classes = {0: 0, 1: 4, 2: 0}; classes_weight = {0: 0, 1: 3.3423920000000003, 2: 0}\n",
      "i = 56; class = 0; class_weight = 0; diff = 0; classes = {0: 4, 1: 0, 2: 0}; classes_weight = {0: 3.189873, 1: 0, 2: 0}\n",
      "i = 57; class = 0; class_weight = 0; diff = 0; classes = {0: 4, 1: 0, 2: 0}; classes_weight = {0: 3.5525030000000006, 1: 0, 2: 0}\n",
      "i = 58; class = 2; class_weight = 2; diff = 0; classes = {0: 0, 1: 2, 2: 2}; classes_weight = {0: 0, 1: 1.5483859999999998, 2: 1.7514189999999998}\n",
      "i = 59; class = 1; class_weight = 1; diff = 0; classes = {0: 0, 1: 3, 2: 1}; classes_weight = {0: 0, 1: 2.7462850000000003, 2: 0.933033}\n",
      "\n",
      "Точность алгоритма при k = 4: 0.767\n",
      "Wall time: 186 ms\n"
     ]
    }
   ],
   "source": [
    "%%time\n",
    "#-----------------------------------------------------------------------------------------------\n",
    "# Чтобы показать различия между классическим методом и методом с весами пришлось увеличить test_size до 0.4\n",
    "# и использовать четные k, иначе результаты классического метода и метода с весами совпадали. \n",
    "# Т.к. почти всегда наиболее частый класс имел и максимальный вес\n",
    "# Accuracy осталась на уровне 0.767 (для k = 4)\n",
    "#-----------------------------------------------------------------------------------------------\n",
    "k = 4\n",
    "# y_pred = knn(X_train, y_train, X_test, k, 'classic', True)\n",
    "y_pred = knn(X_train, y_train, X_test, k, 'weight', True)\n",
    "\n",
    "print()\n",
    "print(f'Точность алгоритма при k = {k}: {accuracy(y_pred, y_test):.3f}')"
   ]
  },
  {
   "cell_type": "code",
   "execution_count": 335,
   "metadata": {
    "scrolled": false
   },
   "outputs": [
    {
     "name": "stdout",
     "output_type": "stream",
     "text": [
      "(2352, 2)\n"
     ]
    },
    {
     "data": {
      "image/png": "[encoded data removed]",
      "text/plain": [
       "<Figure size 504x504 with 1 Axes>"
      ]
     },
     "metadata": {
      "needs_background": "light"
     },
     "output_type": "display_data"
    }
   ],
   "source": [
    "get_graph(X_train, y_train, k)"
   ]
  },
  {
   "cell_type": "markdown",
   "metadata": {},
   "source": [
    "### Задание 2"
   ]
  },
  {
   "cell_type": "markdown",
   "metadata": {},
   "source": [
    "#### Написать функцию подсчета метрики качества кластеризации как среднее квадратичное внутрикластерное расстояние и построить график ее зависимости от количества кластеров k (взять от 1 до 10) для выборки данных из данного урока (создать датасет, как в методичке)."
   ]
  },
  {
   "cell_type": "code",
   "execution_count": 336,
   "metadata": {
    "id": "qRhCTQdZuf_G"
   },
   "outputs": [],
   "source": [
    "from sklearn.datasets import make_blobs, make_moons\n",
    "\n",
    "X, y = make_blobs(n_samples=100, random_state=1)\n",
    "# X, y = make_moons(n_samples=200, noise=0.05, random_state=1)"
   ]
  },
  {
   "cell_type": "code",
   "execution_count": 337,
   "metadata": {
    "id": "I6VqFOARuf_I",
    "outputId": "0b4f8980-a699-4bc3-9256-6c6f6d029839"
   },
   "outputs": [
    {
     "data": {
      "image/png": "[encoded data removed]",
      "text/plain": [
       "<Figure size 504x504 with 1 Axes>"
      ]
     },
     "metadata": {
      "needs_background": "light"
     },
     "output_type": "display_data"
    }
   ],
   "source": [
    "plt.figure(figsize=(7, 7))\n",
    "plt.scatter(X[:, 0], X[:, 1]);"
   ]
  },
  {
   "cell_type": "markdown",
   "metadata": {},
   "source": [
    "#### Метрика - Среднее квадратичное внутрикластерное расстояние"
   ]
  },
  {
   "cell_type": "code",
   "execution_count": 338,
   "metadata": {},
   "outputs": [],
   "source": [
    "#---------------------------------------------------------------------------------------------------------\n",
    "# Метрика - среднее квадратичное внутрикластерное расстояние\n",
    "def e_metrics_mean_sq_dist(centroids, clusters, is_debug = False):\n",
    "    \n",
    "    result = 0\n",
    "    for i, centroid in enumerate(centroids):\n",
    "\n",
    "        cluster = clusters[i]\n",
    "        d = np.sum(np.square(cluster - centroid)) / len(cluster)\n",
    "\n",
    "        if (is_debug):\n",
    "            print(f'cluster = {i}; d = {round(d, 6)}')\n",
    "\n",
    "        result += d \n",
    "    return result\n",
    "#---------------------------------------------------------------------------------------------------------"
   ]
  },
  {
   "cell_type": "code",
   "execution_count": 339,
   "metadata": {
    "id": "7LSTomiyuf_L"
   },
   "outputs": [],
   "source": [
    "def kmeans(data, k, max_iterations, min_distance):\n",
    "    # Создадим словарь для кластеризации\n",
    "    clusters = {i: [] for i in range(k)}\n",
    "    \n",
    "    # инициализируем центроиды как первые k элементов датасета\n",
    "    centroids = [data[i] for i in range(k)]\n",
    "    \n",
    "    for _ in range(max_iterations):\n",
    "        \n",
    "        # кластеризуем объекты по центроидам\n",
    "        for x in data:\n",
    "            \n",
    "            # определим расстояния от объекта до каждого центроида\n",
    "            distances = [e_metrics(x, centroid) for centroid in centroids]\n",
    "            \n",
    "            # отнесем объект к кластеру, до центроида которого наименьшее расстояние\n",
    "            cluster = distances.index(min(distances))\n",
    "            clusters[cluster].append(x)\n",
    "        \n",
    "        # сохраним предыдущие центроиды в отдельный список для последующего сравнения с новыми\n",
    "        old_centroids = centroids.copy()\n",
    "        \n",
    "        # пересчитаем центроиды как среднее по кластерам\n",
    "        for cluster in clusters:\n",
    "            centroids[cluster] = np.mean(clusters[cluster], axis=0)\n",
    "            \n",
    "        # сравним величину смещения центроидов с минимальной\n",
    "        optimal = True\n",
    "        for centroid in range(len(centroids)):\n",
    "            if np.linalg.norm(centroids[centroid] - old_centroids[centroid], ord=2) > min_distance:\n",
    "                optimal = False\n",
    "                break\n",
    "        \n",
    "        # если все смещения меньше минимального, останавливаем алгоритм  \n",
    "        if optimal:\n",
    "            break\n",
    "    \n",
    "    return old_centroids, clusters"
   ]
  },
  {
   "cell_type": "code",
   "execution_count": 340,
   "metadata": {
    "id": "D5RysDcPuf_O"
   },
   "outputs": [],
   "source": [
    "def visualize(centroids, clusters):\n",
    "    colors = ['r', 'g', 'b', 'orange', 'y']\n",
    "    \n",
    "    plt.figure(figsize=(7,7))\n",
    "    \n",
    "    # нанесем на график центроиды\n",
    "    for centroid in centroids:\n",
    "        plt.scatter(centroid[0], centroid[1], marker='x', s=130, c='black')\n",
    "        \n",
    "    # нанесем объекты раскрашенные по классам\n",
    "    for cluster_item in clusters:\n",
    "        for x in clusters[cluster_item]:\n",
    "            plt.scatter(x[0], x[1], color=colors[cluster_item])\n",
    "            \n",
    "    plt.show()"
   ]
  },
  {
   "cell_type": "code",
   "execution_count": 341,
   "metadata": {},
   "outputs": [],
   "source": [
    "#---------------------------------------------------------------------------------------------------------------------\n",
    "# Функция отрисовки зависимости Среднего квадратичного внутрикластерноего расстояния от количества кластеров\n",
    "def get_mean_sq_dist(sq_dist):\n",
    "    \n",
    "    plt.figure(figsize = (13, 6))\n",
    "    plt.xlabel('Count of clusters', fontsize = 14)\n",
    "    plt.ylabel('Mean square inner-cluster distance', fontsize = 14)\n",
    "    \n",
    "    plt.xlim(0,  len(sq_dist) + 1)\n",
    "    \n",
    "    plt.plot(sq_dist[:, 0], sq_dist[:, 1], linewidth = 5)\n",
    "\n",
    "    for k in sq_dist[:, 0]:\n",
    "        plt.axvline(x = k, linestyle='--', linewidth = 0.5, c = 'black')\n",
    "    \n",
    "    plt.title('Mean square inner-cluster distance and Count of clusters', fontsize = 16)\n",
    "    plt.show()\n",
    "#---------------------------------------------------------------------------------------------------------------------"
   ]
  },
  {
   "cell_type": "code",
   "execution_count": 342,
   "metadata": {},
   "outputs": [
    {
     "data": {
      "text/plain": [
       "array([[ 1.        , 41.18153778],\n",
       "       [ 2.        , 10.88184909],\n",
       "       [ 3.        ,  6.05474461],\n",
       "       [ 4.        ,  5.40723801],\n",
       "       [ 5.        ,  5.1357061 ],\n",
       "       [ 6.        ,  5.78697717],\n",
       "       [ 7.        ,  5.64720585],\n",
       "       [ 8.        ,  5.85916122],\n",
       "       [ 9.        ,  6.18813484],\n",
       "       [10.        ,  6.35591858]])"
      ]
     },
     "execution_count": 342,
     "metadata": {},
     "output_type": "execute_result"
    }
   ],
   "source": [
    "# определим максимальное количество итераций\n",
    "max_iterations = 10\n",
    "# и минимальное расстояние между центроидами до пересчета и после него, при котором нужно остановить алгоритм\n",
    "min_distance = 1e-4\n",
    "\n",
    "#---------------------------------------------------------------------------------------------------------------------\n",
    "# перебор количества кластеров от 1 до 10\n",
    "sq_dist = []\n",
    "for k in range(1, 11):\n",
    "    centroids, clusters = kmeans(X, k, max_iterations, min_distance)\n",
    "    sq_dist.append( [k, e_metrics_mean_sq_dist(centroids, clusters)] )\n",
    "\n",
    "sq_dist = np.array(sq_dist)\n",
    "sq_dist"
   ]
  },
  {
   "cell_type": "code",
   "execution_count": 343,
   "metadata": {
    "scrolled": false
   },
   "outputs": [
    {
     "data": {
      "image/png": "[encoded data removed]",
      "text/plain": [
       "<Figure size 936x432 with 1 Axes>"
      ]
     },
     "metadata": {
      "needs_background": "light"
     },
     "output_type": "display_data"
    }
   ],
   "source": [
    "get_mean_sq_dist(sq_dist)"
   ]
  },
  {
   "cell_type": "markdown",
   "metadata": {},
   "source": [
    "### Вывод\n",
    "* Начиная с k = 3, среднее квадратичное внутрикластерное расстояние меняется незначительно. \n",
    "* Значит, k = 3 можно считать оптимальным количеством кластеров"
   ]
  },
  {
   "cell_type": "markdown",
   "metadata": {},
   "source": [
    "### Задание 3"
   ]
  },
  {
   "cell_type": "markdown",
   "metadata": {},
   "source": [
    "#### Оптимизировать код для KNN (оставить один цикл, либо обойтись без циклов вообще)"
   ]
  },
  {
   "cell_type": "code",
   "execution_count": 344,
   "metadata": {},
   "outputs": [],
   "source": [
    "import pandas as pd"
   ]
  },
  {
   "cell_type": "code",
   "execution_count": 345,
   "metadata": {},
   "outputs": [],
   "source": [
    "#--------------------------------------------------------------------------------------------------------\n",
    "# оставил один цикл по X_test\n",
    "# второй цикл реализовал через DataFrame \n",
    "# def knn_optim(x_train, y_train, x_test, k, is_debug = False):\n",
    "def knn_optim(df_train, y_train, x_test, k, is_debug = False):\n",
    "    \n",
    "    answers = []\n",
    "    for x in X_test:\n",
    "\n",
    "        # считаю все расстояния от x до каждого объекта X_train в df_train\n",
    "        df_train['distance'] = np.sqrt((df_train['x1'] - x[0]) ** 2 + (df_train['x2'] - x[1]) ** 2)\n",
    "\n",
    "        # первые k объектов (сортировка по расстоянию)\n",
    "        # классический метод - вычисление наиболее часто встречающегося класса\n",
    "        df_top = df_train.sort_values(by = 'distance').head(k)\n",
    "\n",
    "        df_top_1 = df_top.groupby('y_train').agg({'y_train': ['count']}).reset_index()\n",
    "        df_top_1.columns = ['y_train', 'count']\n",
    "\n",
    "        class_pred = int(df_top_1.nlargest(1, 'count')['y_train'])\n",
    "\n",
    "        answers.append(class_pred)\n",
    "\n",
    "    return answers\n",
    "#--------------------------------------------------------------------------------------------------------"
   ]
  },
  {
   "cell_type": "code",
   "execution_count": 346,
   "metadata": {},
   "outputs": [],
   "source": [
    "# еще раз загружаю датасет\n",
    "X, y = load_iris(return_X_y=True)\n",
    "X = X[:, :2]"
   ]
  },
  {
   "cell_type": "code",
   "execution_count": 347,
   "metadata": {},
   "outputs": [
    {
     "data": {
      "text/plain": [
       "((120, 2), (30, 2))"
      ]
     },
     "execution_count": 347,
     "metadata": {},
     "output_type": "execute_result"
    }
   ],
   "source": [
    "#--------------------------------------------------------------------------------------------------------\n",
    "# теперь test_size=0.2,\n",
    "X_train, X_test, y_train, y_test = train_test_split(X, y,\n",
    "                                                    test_size=0.2,\n",
    "                                                    random_state=1,\n",
    "                                                    stratify=y)\n",
    "X_train.shape, X_test.shape"
   ]
  },
  {
   "cell_type": "code",
   "execution_count": 348,
   "metadata": {},
   "outputs": [
    {
     "data": {
      "text/html": [
       "<div>\n",
       "<style scoped>\n",
       "    .dataframe tbody tr th:only-of-type {\n",
       "        vertical-align: middle;\n",
       "    }\n",
       "\n",
       "    .dataframe tbody tr th {\n",
       "        vertical-align: top;\n",
       "    }\n",
       "\n",
       "    .dataframe thead th {\n",
       "        text-align: right;\n",
       "    }\n",
       "</style>\n",
       "<table border=\"1\" class=\"dataframe\">\n",
       "  <thead>\n",
       "    <tr style=\"text-align: right;\">\n",
       "      <th></th>\n",
       "      <th>x1</th>\n",
       "      <th>x2</th>\n",
       "      <th>y_train</th>\n",
       "    </tr>\n",
       "  </thead>\n",
       "  <tbody>\n",
       "    <tr>\n",
       "      <th>0</th>\n",
       "      <td>5.1</td>\n",
       "      <td>3.7</td>\n",
       "      <td>0</td>\n",
       "    </tr>\n",
       "    <tr>\n",
       "      <th>1</th>\n",
       "      <td>4.6</td>\n",
       "      <td>3.2</td>\n",
       "      <td>0</td>\n",
       "    </tr>\n",
       "    <tr>\n",
       "      <th>2</th>\n",
       "      <td>6.9</td>\n",
       "      <td>3.1</td>\n",
       "      <td>2</td>\n",
       "    </tr>\n",
       "    <tr>\n",
       "      <th>3</th>\n",
       "      <td>5.5</td>\n",
       "      <td>2.6</td>\n",
       "      <td>1</td>\n",
       "    </tr>\n",
       "    <tr>\n",
       "      <th>4</th>\n",
       "      <td>5.6</td>\n",
       "      <td>2.9</td>\n",
       "      <td>1</td>\n",
       "    </tr>\n",
       "    <tr>\n",
       "      <th>...</th>\n",
       "      <td>...</td>\n",
       "      <td>...</td>\n",
       "      <td>...</td>\n",
       "    </tr>\n",
       "    <tr>\n",
       "      <th>115</th>\n",
       "      <td>4.5</td>\n",
       "      <td>2.3</td>\n",
       "      <td>0</td>\n",
       "    </tr>\n",
       "    <tr>\n",
       "      <th>116</th>\n",
       "      <td>5.0</td>\n",
       "      <td>2.3</td>\n",
       "      <td>1</td>\n",
       "    </tr>\n",
       "    <tr>\n",
       "      <th>117</th>\n",
       "      <td>5.0</td>\n",
       "      <td>3.4</td>\n",
       "      <td>0</td>\n",
       "    </tr>\n",
       "    <tr>\n",
       "      <th>118</th>\n",
       "      <td>4.6</td>\n",
       "      <td>3.1</td>\n",
       "      <td>0</td>\n",
       "    </tr>\n",
       "    <tr>\n",
       "      <th>119</th>\n",
       "      <td>4.4</td>\n",
       "      <td>3.2</td>\n",
       "      <td>0</td>\n",
       "    </tr>\n",
       "  </tbody>\n",
       "</table>\n",
       "<p>120 rows × 3 columns</p>\n",
       "</div>"
      ],
      "text/plain": [
       "      x1   x2  y_train\n",
       "0    5.1  3.7        0\n",
       "1    4.6  3.2        0\n",
       "2    6.9  3.1        2\n",
       "3    5.5  2.6        1\n",
       "4    5.6  2.9        1\n",
       "..   ...  ...      ...\n",
       "115  4.5  2.3        0\n",
       "116  5.0  2.3        1\n",
       "117  5.0  3.4        0\n",
       "118  4.6  3.1        0\n",
       "119  4.4  3.2        0\n",
       "\n",
       "[120 rows x 3 columns]"
      ]
     },
     "execution_count": 348,
     "metadata": {},
     "output_type": "execute_result"
    }
   ],
   "source": [
    "# создаю DataFrame\n",
    "df_train = pd.DataFrame(X_train, columns = ['x1', 'x2'])\n",
    "df_train['y_train'] = y_train\n",
    "df_train"
   ]
  },
  {
   "cell_type": "code",
   "execution_count": 349,
   "metadata": {
    "scrolled": false
   },
   "outputs": [
    {
     "data": {
      "text/html": [
       "<div>\n",
       "<style scoped>\n",
       "    .dataframe tbody tr th:only-of-type {\n",
       "        vertical-align: middle;\n",
       "    }\n",
       "\n",
       "    .dataframe tbody tr th {\n",
       "        vertical-align: top;\n",
       "    }\n",
       "\n",
       "    .dataframe thead th {\n",
       "        text-align: right;\n",
       "    }\n",
       "</style>\n",
       "<table border=\"1\" class=\"dataframe\">\n",
       "  <thead>\n",
       "    <tr style=\"text-align: right;\">\n",
       "      <th></th>\n",
       "      <th>y_pred_task_1</th>\n",
       "      <th>y_pred_task_3</th>\n",
       "      <th>difference</th>\n",
       "    </tr>\n",
       "  </thead>\n",
       "  <tbody>\n",
       "    <tr>\n",
       "      <th>0</th>\n",
       "      <td>2</td>\n",
       "      <td>2</td>\n",
       "      <td>0</td>\n",
       "    </tr>\n",
       "    <tr>\n",
       "      <th>1</th>\n",
       "      <td>0</td>\n",
       "      <td>0</td>\n",
       "      <td>0</td>\n",
       "    </tr>\n",
       "    <tr>\n",
       "      <th>2</th>\n",
       "      <td>1</td>\n",
       "      <td>1</td>\n",
       "      <td>0</td>\n",
       "    </tr>\n",
       "    <tr>\n",
       "      <th>3</th>\n",
       "      <td>0</td>\n",
       "      <td>0</td>\n",
       "      <td>0</td>\n",
       "    </tr>\n",
       "    <tr>\n",
       "      <th>4</th>\n",
       "      <td>0</td>\n",
       "      <td>0</td>\n",
       "      <td>0</td>\n",
       "    </tr>\n",
       "    <tr>\n",
       "      <th>5</th>\n",
       "      <td>0</td>\n",
       "      <td>0</td>\n",
       "      <td>0</td>\n",
       "    </tr>\n",
       "    <tr>\n",
       "      <th>6</th>\n",
       "      <td>2</td>\n",
       "      <td>1</td>\n",
       "      <td>-1</td>\n",
       "    </tr>\n",
       "    <tr>\n",
       "      <th>7</th>\n",
       "      <td>2</td>\n",
       "      <td>2</td>\n",
       "      <td>0</td>\n",
       "    </tr>\n",
       "    <tr>\n",
       "      <th>8</th>\n",
       "      <td>1</td>\n",
       "      <td>1</td>\n",
       "      <td>0</td>\n",
       "    </tr>\n",
       "    <tr>\n",
       "      <th>9</th>\n",
       "      <td>1</td>\n",
       "      <td>1</td>\n",
       "      <td>0</td>\n",
       "    </tr>\n",
       "    <tr>\n",
       "      <th>10</th>\n",
       "      <td>0</td>\n",
       "      <td>0</td>\n",
       "      <td>0</td>\n",
       "    </tr>\n",
       "    <tr>\n",
       "      <th>11</th>\n",
       "      <td>1</td>\n",
       "      <td>1</td>\n",
       "      <td>0</td>\n",
       "    </tr>\n",
       "    <tr>\n",
       "      <th>12</th>\n",
       "      <td>1</td>\n",
       "      <td>1</td>\n",
       "      <td>0</td>\n",
       "    </tr>\n",
       "    <tr>\n",
       "      <th>13</th>\n",
       "      <td>2</td>\n",
       "      <td>1</td>\n",
       "      <td>-1</td>\n",
       "    </tr>\n",
       "    <tr>\n",
       "      <th>14</th>\n",
       "      <td>1</td>\n",
       "      <td>1</td>\n",
       "      <td>0</td>\n",
       "    </tr>\n",
       "    <tr>\n",
       "      <th>15</th>\n",
       "      <td>0</td>\n",
       "      <td>0</td>\n",
       "      <td>0</td>\n",
       "    </tr>\n",
       "    <tr>\n",
       "      <th>16</th>\n",
       "      <td>2</td>\n",
       "      <td>2</td>\n",
       "      <td>0</td>\n",
       "    </tr>\n",
       "    <tr>\n",
       "      <th>17</th>\n",
       "      <td>1</td>\n",
       "      <td>1</td>\n",
       "      <td>0</td>\n",
       "    </tr>\n",
       "    <tr>\n",
       "      <th>18</th>\n",
       "      <td>1</td>\n",
       "      <td>1</td>\n",
       "      <td>0</td>\n",
       "    </tr>\n",
       "    <tr>\n",
       "      <th>19</th>\n",
       "      <td>1</td>\n",
       "      <td>1</td>\n",
       "      <td>0</td>\n",
       "    </tr>\n",
       "    <tr>\n",
       "      <th>20</th>\n",
       "      <td>2</td>\n",
       "      <td>2</td>\n",
       "      <td>0</td>\n",
       "    </tr>\n",
       "    <tr>\n",
       "      <th>21</th>\n",
       "      <td>1</td>\n",
       "      <td>1</td>\n",
       "      <td>0</td>\n",
       "    </tr>\n",
       "    <tr>\n",
       "      <th>22</th>\n",
       "      <td>0</td>\n",
       "      <td>0</td>\n",
       "      <td>0</td>\n",
       "    </tr>\n",
       "    <tr>\n",
       "      <th>23</th>\n",
       "      <td>0</td>\n",
       "      <td>0</td>\n",
       "      <td>0</td>\n",
       "    </tr>\n",
       "    <tr>\n",
       "      <th>24</th>\n",
       "      <td>2</td>\n",
       "      <td>2</td>\n",
       "      <td>0</td>\n",
       "    </tr>\n",
       "    <tr>\n",
       "      <th>25</th>\n",
       "      <td>1</td>\n",
       "      <td>0</td>\n",
       "      <td>-1</td>\n",
       "    </tr>\n",
       "    <tr>\n",
       "      <th>26</th>\n",
       "      <td>0</td>\n",
       "      <td>0</td>\n",
       "      <td>0</td>\n",
       "    </tr>\n",
       "    <tr>\n",
       "      <th>27</th>\n",
       "      <td>0</td>\n",
       "      <td>0</td>\n",
       "      <td>0</td>\n",
       "    </tr>\n",
       "    <tr>\n",
       "      <th>28</th>\n",
       "      <td>2</td>\n",
       "      <td>2</td>\n",
       "      <td>0</td>\n",
       "    </tr>\n",
       "    <tr>\n",
       "      <th>29</th>\n",
       "      <td>2</td>\n",
       "      <td>2</td>\n",
       "      <td>0</td>\n",
       "    </tr>\n",
       "  </tbody>\n",
       "</table>\n",
       "</div>"
      ],
      "text/plain": [
       "    y_pred_task_1  y_pred_task_3  difference\n",
       "0               2              2           0\n",
       "1               0              0           0\n",
       "2               1              1           0\n",
       "3               0              0           0\n",
       "4               0              0           0\n",
       "5               0              0           0\n",
       "6               2              1          -1\n",
       "7               2              2           0\n",
       "8               1              1           0\n",
       "9               1              1           0\n",
       "10              0              0           0\n",
       "11              1              1           0\n",
       "12              1              1           0\n",
       "13              2              1          -1\n",
       "14              1              1           0\n",
       "15              0              0           0\n",
       "16              2              2           0\n",
       "17              1              1           0\n",
       "18              1              1           0\n",
       "19              1              1           0\n",
       "20              2              2           0\n",
       "21              1              1           0\n",
       "22              0              0           0\n",
       "23              0              0           0\n",
       "24              2              2           0\n",
       "25              1              0          -1\n",
       "26              0              0           0\n",
       "27              0              0           0\n",
       "28              2              2           0\n",
       "29              2              2           0"
      ]
     },
     "execution_count": 349,
     "metadata": {},
     "output_type": "execute_result"
    }
   ],
   "source": [
    "k = 4\n",
    "\n",
    "# вызов классического метода knn\n",
    "y_pred_task_1 = knn(X_train, y_train, X_test, k, 'classic', False)\n",
    "\n",
    "# вызов оптимизированного метода knn\n",
    "# y_pred_task_3 = knn_optim(X_train, y_train, X_test, k, False)\n",
    "y_pred_task_3 = knn_optim(df_train, y_train, X_test, k, False)\n",
    "\n",
    "df_result = pd.DataFrame(y_pred_task_1, columns = {'y_pred_task_1'})\n",
    "df_result['y_pred_task_3'] = y_pred_task_3\n",
    "\n",
    "df_result['difference'] =  df_result['y_pred_task_3'] - df_result['y_pred_task_1']\n",
    "df_result"
   ]
  },
  {
   "cell_type": "markdown",
   "metadata": {},
   "source": [
    "### Вывод\n",
    "* Есть несколько отличий с результатами из базового алгоритма.\n",
    "* Но это связано с особенностями сортировки совпадающих значений в словаре и в DataFrame и способа их выбора для ответа."
   ]
  }
 ],
 "metadata": {
  "colab": {
   "collapsed_sections": [],
   "name": "Lesson_7(edited).ipynb",
   "provenance": []
  },
  "kernelspec": {
   "display_name": "Python 3",
   "language": "python",
   "name": "python3"
  },
  "language_info": {
   "codemirror_mode": {
    "name": "ipython",
    "version": 3
   },
   "file_extension": ".py",
   "mimetype": "text/x-python",
   "name": "python",
   "nbconvert_exporter": "python",
   "pygments_lexer": "ipython3",
   "version": "3.7.6"
  }
 },
 "nbformat": 4,
 "nbformat_minor": 1
}

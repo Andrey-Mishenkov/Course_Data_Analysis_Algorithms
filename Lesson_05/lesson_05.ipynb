{
 "cells": [
  {
   "cell_type": "markdown",
   "metadata": {
    "id": "SQJYSrtPbIWr"
   },
   "source": [
    "### Домашнее задание N5"
   ]
  },
  {
   "cell_type": "code",
   "execution_count": 626,
   "metadata": {
    "id": "ZNR-FOeobIWs"
   },
   "outputs": [],
   "source": [
    "import matplotlib.pyplot as plt\n",
    "import random\n",
    "\n",
    "from matplotlib.colors import ListedColormap\n",
    "from sklearn.datasets import make_classification\n",
    "\n",
    "import numpy as np"
   ]
  },
  {
   "cell_type": "code",
   "execution_count": 627,
   "metadata": {
    "id": "m4Mb7omZbIWw"
   },
   "outputs": [],
   "source": [
    "# датасет 100 объектов и 2 признака\n",
    "classification_data, classification_labels = make_classification(n_samples=100,\n",
    "                                                                 n_features=2, n_informative=2, \n",
    "                                                                 n_classes=2, n_redundant=0, \n",
    "                                                                 n_clusters_per_class=1, random_state=23)"
   ]
  },
  {
   "cell_type": "code",
   "execution_count": 628,
   "metadata": {
    "colab": {
     "base_uri": "https://localhost:8080/",
     "height": 501
    },
    "id": "2R53TJClbIWz",
    "outputId": "b9907394-fa3f-4b69-b2ef-28fcbf0bb8b2"
   },
   "outputs": [
    {
     "data": {
      "image/png": "[encoded data removed]",
      "text/plain": [
       "<Figure size 576x576 with 1 Axes>"
      ]
     },
     "metadata": {
      "needs_background": "light"
     },
     "output_type": "display_data"
    }
   ],
   "source": [
    "# визуализируем сгенерированные данные\n",
    "\n",
    "colors = ListedColormap(['red', 'blue'])\n",
    "light_colors = ListedColormap(['lightcoral', 'lightblue'])\n",
    "\n",
    "plt.figure(figsize=(8,8))\n",
    "plt.scatter(classification_data[:, 0], classification_data[:, 1], \n",
    "              c=classification_labels, cmap=colors);"
   ]
  },
  {
   "cell_type": "code",
   "execution_count": 629,
   "metadata": {
    "id": "d7if4ogqbIW3"
   },
   "outputs": [],
   "source": [
    "np.random.seed(42)\n",
    "\n",
    "def get_bootstrap(data, labels, N):\n",
    "    n_samples = data.shape[0] # размер совпадает с исходной выборкой\n",
    "    bootstrap = []\n",
    "    \n",
    "    #--------------------------------------------------------------------------------------------------------------\n",
    "    # массив всех индексов выборки\n",
    "    all_index = [x for x in range(n_samples)]\n",
    "    #--------------------------------------------------------------------------------------------------------------\n",
    "    \n",
    "    for i in range(N):\n",
    "    \n",
    "        sample_index = np.random.randint(0, n_samples, size=n_samples)\n",
    "        b_data = data[sample_index]\n",
    "        b_labels = labels[sample_index]\n",
    "        \n",
    "        #--------------------------------------------------------------------------------------------------------------\n",
    "        # Out Of Bag данные\n",
    "        # индексы объектов, не вошедших в выборку\n",
    "        oob_index = [x for x in all_index if x not in sample_index]\n",
    "        \n",
    "        # OOB - сами данные и ответы\n",
    "        oob_data   = data[oob_index]\n",
    "        oob_labels = labels[oob_index]\n",
    "        #--------------------------------------------------------------------------------------------------------------\n",
    "        # кроме основной выборки, добавлены OOB данные и ответы\n",
    "        bootstrap.append((b_data, b_labels, oob_data, oob_labels))\n",
    "        #--------------------------------------------------------------------------------------------------------------\n",
    "    \n",
    "    return bootstrap"
   ]
  },
  {
   "cell_type": "code",
   "execution_count": 630,
   "metadata": {
    "scrolled": false
   },
   "outputs": [],
   "source": [
    "# get_bootstrap(classification_data, classification_labels, 1)"
   ]
  },
  {
   "cell_type": "code",
   "execution_count": 631,
   "metadata": {
    "id": "526l0aGNbIW5"
   },
   "outputs": [],
   "source": [
    "def get_subsample(len_sample):\n",
    "    # будем сохранять не сами признаки, а их индексы\n",
    "    sample_indexes = list(range(len_sample))\n",
    "\n",
    "    len_subsample = int(np.sqrt(len_sample))\n",
    "    \n",
    "    subsample = np.random.choice(sample_indexes, size=len_subsample, replace=False)\n",
    "\n",
    "    return subsample"
   ]
  },
  {
   "cell_type": "code",
   "execution_count": 632,
   "metadata": {},
   "outputs": [],
   "source": [
    "# get_subsample(16)"
   ]
  },
  {
   "cell_type": "code",
   "execution_count": 633,
   "metadata": {
    "id": "Duu45IJUabXi"
   },
   "outputs": [],
   "source": [
    "# Реализуем класс узла\n",
    "\n",
    "class Node:\n",
    "    \n",
    "    def __init__(self, index, t, true_branch, false_branch):\n",
    "        self.index = index  # индекс признака, по которому ведется сравнение с порогом в этом узле\n",
    "        self.t = t  # значение порога\n",
    "        self.true_branch = true_branch  # поддерево, удовлетворяющее условию в узле\n",
    "        self.false_branch = false_branch  # поддерево, не удовлетворяющее условию в узле"
   ]
  },
  {
   "cell_type": "code",
   "execution_count": 634,
   "metadata": {
    "id": "QY8oNtakabXl"
   },
   "outputs": [],
   "source": [
    "# И класс терминального узла (листа)\n",
    "\n",
    "class Leaf:\n",
    "    \n",
    "    def __init__(self, data, labels):\n",
    "        self.data = data\n",
    "        self.labels = labels\n",
    "        self.prediction = self.predict()\n",
    "        \n",
    "    def predict(self):\n",
    "        # подсчет количества объектов разных классов\n",
    "        classes = {}  # сформируем словарь \"класс: количество объектов\"\n",
    "        for label in self.labels:\n",
    "            if label not in classes:\n",
    "                classes[label] = 0\n",
    "            classes[label] += 1\n",
    "            \n",
    "        # найдем класс, количество объектов которого будет максимальным в этом листе и вернем его    \n",
    "        prediction = max(classes, key=classes.get)\n",
    "        return prediction        "
   ]
  },
  {
   "cell_type": "code",
   "execution_count": 635,
   "metadata": {
    "id": "uBdli3WDabXn"
   },
   "outputs": [],
   "source": [
    "#--------------------------------------------------------------------------------------------------\n",
    "# Функция расчета критерия Джини и Энтропии Шеннона\n",
    "#--------------------------------------------------------------------------------------------------\n",
    "\n",
    "def crit_inform(labels):\n",
    "    \n",
    "    #  подсчет количества объектов разных классов\n",
    "    classes = {}\n",
    "    for label in labels:\n",
    "        if label not in classes:\n",
    "            classes[label] = 0\n",
    "        classes[label] += 1\n",
    "    \n",
    "    #--------------------------------------------------------------------------------------------------\n",
    "    #  расчет критерия\n",
    "    global criterion_inform                         # глобальная переменная; определяет критерий информативности\n",
    "    \n",
    "    impurity = 0\n",
    "    #--------------------------------------------------------------------------------------------------\n",
    "    if criterion_inform == 'gini':                  # критерий Джини\n",
    "        \n",
    "        impurity = 1\n",
    "        for label in classes:\n",
    "            p = classes[label] / len(labels)\n",
    "            impurity -= p ** 2\n",
    "\n",
    "        return impurity\n",
    "    \n",
    "    #--------------------------------------------------------------------------------------------------\n",
    "    elif criterion_inform == 'entropy':             # энтропия Шеннона\n",
    "       \n",
    "        impurity = 0\n",
    "        for label in classes:\n",
    "            p = classes[label] / len(labels)\n",
    "            if p != 0: \n",
    "                impurity += p * np.log2(p)\n",
    "                \n",
    "        impurity = -impurity\n",
    "    #--------------------------------------------------------------------------------------------------\n",
    "    \n",
    "    return impurity "
   ]
  },
  {
   "cell_type": "code",
   "execution_count": 636,
   "metadata": {
    "id": "9vvLDhuRabXr"
   },
   "outputs": [],
   "source": [
    "# Расчет прироста\n",
    "\n",
    "def gain(left_labels, right_labels, root_crit_inf):\n",
    "\n",
    "    # доля выборки, ушедшая в левое поддерево\n",
    "    p = float(left_labels.shape[0]) / (left_labels.shape[0] + right_labels.shape[0])\n",
    "    \n",
    "    return root_crit_inf - p * crit_inform(left_labels) - (1 - p) * crit_inform(right_labels)"
   ]
  },
  {
   "cell_type": "code",
   "execution_count": 637,
   "metadata": {
    "id": "nhWkphi3abXt"
   },
   "outputs": [],
   "source": [
    "# Разбиение датасета в узле\n",
    "\n",
    "def split(data, labels, column_index, t):\n",
    "    \n",
    "    left = np.where(data[:, column_index] <= t)\n",
    "    right = np.where(data[:, column_index] > t)\n",
    "        \n",
    "    true_data = data[left]\n",
    "    false_data = data[right]\n",
    "    \n",
    "    true_labels = labels[left]\n",
    "    false_labels = labels[right]\n",
    "        \n",
    "    return true_data, false_data, true_labels, false_labels"
   ]
  },
  {
   "cell_type": "code",
   "execution_count": 638,
   "metadata": {
    "id": "5wi8Fbs_abXw"
   },
   "outputs": [],
   "source": [
    "# Нахождение наилучшего разбиения\n",
    "\n",
    "def find_best_split(data, labels):\n",
    "    \n",
    "    #  обозначим минимальное количество объектов в узле\n",
    "    min_leaf_samples = 5\n",
    "\n",
    "#---------------------------------------------------------------------------\n",
    "# замена функции критерия информативности\n",
    "#     root_gini = gini(labels)\n",
    "    root_crit_inf = crit_inform(labels)\n",
    "#---------------------------------------------------------------------------\n",
    "\n",
    "    best_gain = 0\n",
    "    best_t = None\n",
    "    best_index = None\n",
    "    \n",
    "    n_features = data.shape[1]\n",
    "    \n",
    "    feature_subsample_indixes = get_subsample(n_features)             # выбираем случайные признаки\n",
    "    \n",
    "    for index in feature_subsample_indixes:\n",
    "        # будем проверять только уникальные значения признака, исключая повторения\n",
    "        t_values = np.unique(data[:, index])\n",
    "        \n",
    "        for t in t_values:\n",
    "            \n",
    "            true_data, false_data, true_labels, false_labels = split(data, labels, index, t)\n",
    "            \n",
    "            #  пропускаем разбиения, в которых в узле остается менее 5 объектов\n",
    "            if len(true_data) < min_leaf_samples or len(false_data) < min_leaf_samples:\n",
    "                continue\n",
    "\n",
    "#-------------------------------------------------------------------------------------------------\n",
    "#             current_gain = gain(true_labels, false_labels, root_gini)\n",
    "            current_gain = gain(true_labels, false_labels, root_crit_inf)\n",
    "#-------------------------------------------------------------------------------------------------\n",
    "            \n",
    "            #  выбираем порог, на котором получается максимальный прирост качества\n",
    "            if current_gain > best_gain:\n",
    "                best_gain, best_t, best_index = current_gain, t, index\n",
    "\n",
    "    return best_gain, best_t, best_index"
   ]
  },
  {
   "cell_type": "code",
   "execution_count": 639,
   "metadata": {
    "id": "f1__qSXSabXy"
   },
   "outputs": [],
   "source": [
    "# Построение дерева с помощью рекурсивной функции\n",
    "\n",
    "def build_tree(data, labels):\n",
    "\n",
    "    gain, t, index = find_best_split(data, labels)\n",
    "\n",
    "    #  Базовый случай - прекращаем рекурсию, когда нет прироста в качества\n",
    "    if gain == 0:\n",
    "        return Leaf(data, labels)\n",
    "\n",
    "    true_data, false_data, true_labels, false_labels = split(data, labels, index, t)\n",
    "\n",
    "    # Рекурсивно строим два поддерева\n",
    "    true_branch = build_tree(true_data, true_labels)\n",
    "    false_branch = build_tree(false_data, false_labels)\n",
    "\n",
    "    # Возвращаем класс узла со всеми поддеревьями, то есть целого дерева\n",
    "    return Node(index, t, true_branch, false_branch)"
   ]
  },
  {
   "cell_type": "code",
   "execution_count": 640,
   "metadata": {},
   "outputs": [],
   "source": [
    "#------------------------------------------------------------------------------------------------------------\n",
    "# массив для сбора OOB данных\n",
    "oob_data_test = []"
   ]
  },
  {
   "cell_type": "code",
   "execution_count": 641,
   "metadata": {
    "id": "PZMieMMrbIXV"
   },
   "outputs": [],
   "source": [
    "#------------------------------------------------------------------------------------------------------------\n",
    "# добавлен параметр oob_data_test - OOB данные \n",
    "def random_forest(data, labels, n_trees, oob_data_test = []):\n",
    "    \n",
    "    forest = []\n",
    "    bootstrap = get_bootstrap(data, labels, n_trees)\n",
    "    \n",
    "    step = 0\n",
    "    #------------------------------------------------------------------------------------------------------------\n",
    "    # добавлены массивы OOB данные и ответы\n",
    "    for b_data, b_labels, oob_data, oob_labels in bootstrap:\n",
    "\n",
    "        forest.append(build_tree(b_data, b_labels))\n",
    "        \n",
    "        #------------------------------------------------------------------------------------------------------------\n",
    "        # наполнение массива OOB данными\n",
    "        oob_data_test.append([oob_data, oob_labels])\n",
    "        \n",
    "    return forest"
   ]
  },
  {
   "cell_type": "code",
   "execution_count": 642,
   "metadata": {
    "id": "tWNbZTz4bIXX"
   },
   "outputs": [],
   "source": [
    "# Функция классификации отдельного объекта\n",
    "\n",
    "def classify_object(obj, node):\n",
    "\n",
    "    #  Останавливаем рекурсию, если достигли листа\n",
    "    if isinstance(node, Leaf):\n",
    "        answer = node.prediction\n",
    "        return answer\n",
    "\n",
    "    if obj[node.index] <= node.t:\n",
    "        return classify_object(obj, node.true_branch)\n",
    "    else:\n",
    "        return classify_object(obj, node.false_branch)"
   ]
  },
  {
   "cell_type": "code",
   "execution_count": 643,
   "metadata": {
    "id": "rWOM8g_YbIXZ"
   },
   "outputs": [],
   "source": [
    "# функция формирования предсказания по выборке на одном дереве\n",
    "\n",
    "def predict(data, tree):\n",
    "    \n",
    "    classes = []\n",
    "    for obj in data:\n",
    "        prediction = classify_object(obj, tree)\n",
    "        classes.append(prediction)\n",
    "    return classes"
   ]
  },
  {
   "cell_type": "code",
   "execution_count": 644,
   "metadata": {
    "id": "ZtIgR7R-bIXc"
   },
   "outputs": [],
   "source": [
    "# предсказание голосованием деревьев\n",
    "\n",
    "def tree_vote(forest, data):\n",
    "\n",
    "    # добавим предсказания всех деревьев в список\n",
    "    predictions = []\n",
    "    for tree in forest:\n",
    "        predictions.append(predict(data, tree))\n",
    "#     print(predictions)\n",
    "\n",
    "    # сформируем список с предсказаниями для каждого объекта\n",
    "    predictions_per_object = list(zip(*predictions))\n",
    "#     print(predictions_per_object)\n",
    "\n",
    "    # выберем в качестве итогового предсказания для каждого объекта то,\n",
    "    # за которое проголосовало большинство деревьев\n",
    "    voted_predictions = []\n",
    "    for obj in predictions_per_object:\n",
    "        voted_predictions.append(max(set(obj), key=obj.count))\n",
    "        \n",
    "    return voted_predictions"
   ]
  },
  {
   "cell_type": "code",
   "execution_count": 645,
   "metadata": {},
   "outputs": [],
   "source": [
    "# tree_vote(my_forest_3, test_data[:5])"
   ]
  },
  {
   "cell_type": "code",
   "execution_count": 646,
   "metadata": {
    "id": "Ie9t9IyAbIXh"
   },
   "outputs": [],
   "source": [
    "# Разобьем выборку на обучающую и тестовую\n",
    "\n",
    "from sklearn.model_selection import train_test_split\n",
    "\n",
    "train_data, test_data, train_labels, test_labels = train_test_split(classification_data, \n",
    "                                                                    classification_labels, \n",
    "                                                                    test_size=0.3,\n",
    "                                                                    random_state=1)"
   ]
  },
  {
   "cell_type": "code",
   "execution_count": 647,
   "metadata": {
    "id": "z4apOFB9bIXk"
   },
   "outputs": [],
   "source": [
    "# Введем функцию подсчета точности как доли правильных ответов\n",
    "\n",
    "def accuracy_metric(actual, predicted):\n",
    "    correct = 0\n",
    "    for i in range(len(actual)):\n",
    "        if actual[i] == predicted[i]:\n",
    "            correct += 1\n",
    "    return correct / float(len(actual)) * 100.0"
   ]
  },
  {
   "cell_type": "code",
   "execution_count": 648,
   "metadata": {},
   "outputs": [],
   "source": [
    "#----------------------------------------------------------------------------------------------\n",
    "# Функция подсчета точности для Out Of Bag данных\n",
    "#----------------------------------------------------------------------------------------------\n",
    "\n",
    "def accuracy_metric_oob(forest, oob_data):\n",
    "\n",
    "    # добавим предсказания всех деревьев в список\n",
    "    predictions = []\n",
    "    answears = []\n",
    "    for i, tree in enumerate(forest):\n",
    "\n",
    "        data = oob_data[i][0]\n",
    "        answears.append(list(np.squeeze(oob_data[i][1])))\n",
    "        predictions.append(predict(data, tree))\n",
    "    \n",
    "    print('\\nПредсказания =', predictions)\n",
    "    print('\\nОтветы       =', answears)\n",
    "\n",
    "    accuracy = []\n",
    "    for i, pred in enumerate(predictions):\n",
    "        print(f'\\nДерево {i}; Объекты, на которых не обучалось дерево: ')\n",
    "        true_value = 0\n",
    "        \n",
    "        for j, pred_value in enumerate(pred):\n",
    "        \n",
    "            err = ''\n",
    "            fact_value = answears[i][j]\n",
    "            if (pred_value == fact_value):\n",
    "                true_value += 1\n",
    "            else:\n",
    "                err = 1\n",
    "            print(f'\\tpred = {pred_value}; fact = {fact_value}; err = {err}')\n",
    "        \n",
    "        accuracy_i = round(true_value / len(pred), 4)\n",
    "        accuracy.append(accuracy_i)\n",
    "        print(f'Средняя точность = {accuracy_i}')\n",
    "    \n",
    "    # итоговая средняя точность\n",
    "    mean_accuracy = np.mean(accuracy)\n",
    "    \n",
    "    print()\n",
    "    print(f'Точность по всем деревьям = {accuracy}')\n",
    "    print(f'Итоговая средняя точность = {round(mean_accuracy, 4)}')\n",
    "    \n",
    "    return mean_accuracy"
   ]
  },
  {
   "cell_type": "markdown",
   "metadata": {},
   "source": [
    "### Задание 1"
   ]
  },
  {
   "cell_type": "markdown",
   "metadata": {},
   "source": [
    "#### Сформировать с помощью sklearn.make_classification датасет из 100 объектов с двумя признаками, обучить случайный лес из 1, 3, 10 и 50 деревьев и визуализировать их разделяющие гиперплоскости на графиках (по подобию визуализации деревьев из предыдущего урока, необходимо только заменить вызов функции predict на tree_vote)."
   ]
  },
  {
   "cell_type": "code",
   "execution_count": 649,
   "metadata": {},
   "outputs": [],
   "source": [
    "# Визуализация\n",
    "def get_meshgrid(data, step=.05, border=1.2):\n",
    "    x_min = data[:, 0].min() - border\n",
    "    x_max = data[:, 0].max() + border\n",
    "    \n",
    "    y_min = data[:, 1].min() - border\n",
    "    y_max = data[:, 1].max() + border\n",
    "    \n",
    "    return np.meshgrid(np.arange(x_min, x_max, step), np.arange(y_min, y_max, step))\n",
    "\n",
    "def visualize(train_data, test_data, my_tree):\n",
    "\n",
    "    plt.figure(figsize = (16, 7))\n",
    "\n",
    "    # график обучающей выборки\n",
    "    plt.subplot(1,2,1)\n",
    "    \n",
    "    xx, yy = get_meshgrid(train_data)\n",
    "    ## функция tree_vote\n",
    "    mesh_predictions = np.array(tree_vote(my_tree, np.c_[xx.ravel(), yy.ravel()])).reshape(xx.shape)\n",
    "    \n",
    "    plt.pcolormesh(xx, yy, mesh_predictions, cmap = light_colors)\n",
    "    plt.scatter(train_data[:, 0], train_data[:, 1], c = train_labels, cmap = colors)\n",
    "    \n",
    "    plt.title(f'{len(my_tree)} trees; Train accuracy={train_accuracy:.2f}', fontsize = 14, weight = 'bold')\n",
    "\n",
    "    # график тестовой выборки\n",
    "    plt.subplot(1,2,2)\n",
    "    \n",
    "    plt.pcolormesh(xx, yy, mesh_predictions, cmap = light_colors)\n",
    "    plt.scatter(test_data[:, 0], test_data[:, 1], c = test_labels, cmap = colors)\n",
    "    \n",
    "    plt.title(f'{len(my_tree)} trees; Test accuracy={test_accuracy:.2f}', fontsize = 14, weight = 'bold')"
   ]
  },
  {
   "cell_type": "markdown",
   "metadata": {},
   "source": [
    "#### Четыре варианта случайного леса"
   ]
  },
  {
   "cell_type": "code",
   "execution_count": 650,
   "metadata": {},
   "outputs": [],
   "source": [
    "# задаю критерий информативности\n",
    "criterion_inform = 'gini'"
   ]
  },
  {
   "cell_type": "code",
   "execution_count": 651,
   "metadata": {},
   "outputs": [],
   "source": [
    "oob_data_test = []"
   ]
  },
  {
   "cell_type": "code",
   "execution_count": 652,
   "metadata": {
    "scrolled": false
   },
   "outputs": [
    {
     "name": "stdout",
     "output_type": "stream",
     "text": [
      "\n",
      "Случайный лес из 1 деревьев:\n",
      "\tТочность на обучающей выборке: 88.571\n",
      "\tТочность на тестовой выборке:  73.333\n",
      "\n",
      "Случайный лес из 3 деревьев:\n",
      "\tТочность на обучающей выборке: 91.429\n",
      "\tТочность на тестовой выборке:  83.333\n",
      "\n",
      "Случайный лес из 10 деревьев:\n",
      "\tТочность на обучающей выборке: 95.714\n",
      "\tТочность на тестовой выборке:  90.000\n",
      "\n",
      "Случайный лес из 50 деревьев:\n",
      "\tТочность на обучающей выборке: 95.714\n",
      "\tТочность на тестовой выборке:  86.667\n",
      "Wall time: 8.75 s\n"
     ]
    },
    {
     "data": {
      "image/png": "[encoded data removed]",
      "text/plain": [
       "<Figure size 1152x504 with 2 Axes>"
      ]
     },
     "metadata": {
      "needs_background": "light"
     },
     "output_type": "display_data"
    },
    {
     "data": {
      "image/png": "[encoded data removed]",
      "text/plain": [
       "<Figure size 1152x504 with 2 Axes>"
      ]
     },
     "metadata": {
      "needs_background": "light"
     },
     "output_type": "display_data"
    },
    {
     "data": {
      "image/png": "[encoded data removed]",
      "text/plain": [
       "<Figure size 1152x504 with 2 Axes>"
      ]
     },
     "metadata": {
      "needs_background": "light"
     },
     "output_type": "display_data"
    },
    {
     "data": {
      "image/png": "[encoded data removed]",
      "text/plain": [
       "<Figure size 1152x504 with 2 Axes>"
      ]
     },
     "metadata": {
      "needs_background": "light"
     },
     "output_type": "display_data"
    }
   ],
   "source": [
    "%%time\n",
    "import time\n",
    "count_trees = [1, 3, 10, 50]\n",
    "\n",
    "for n_trees in count_trees:\n",
    "\n",
    "    current_forest = random_forest(train_data, train_labels, n_trees)\n",
    "\n",
    "    # ответы для обучающей выборки и тестовой выборок\n",
    "    train_answers = tree_vote(current_forest, train_data)\n",
    "    test_answers  = tree_vote(current_forest, test_data)\n",
    "\n",
    "    # точность на обучающей и тестовой выборках\n",
    "    train_accuracy = accuracy_metric(train_labels, train_answers)\n",
    "    test_accuracy  = accuracy_metric(test_labels, test_answers)\n",
    "\n",
    "    print(f'\\nСлучайный лес из {n_trees} деревьев:')\n",
    "    print(f'\\tТочность на обучающей выборке: {train_accuracy:.3f}')\n",
    "    print(f'\\tТочность на тестовой выборке:  {test_accuracy:.3f}')\n",
    "    time.sleep(1)\n",
    "    \n",
    "    visualize(train_data, test_data, current_forest)\n"
   ]
  },
  {
   "cell_type": "markdown",
   "metadata": {},
   "source": [
    "### Задание 2"
   ]
  },
  {
   "cell_type": "markdown",
   "metadata": {},
   "source": [
    "#### Сделать выводы о получаемой сложности гиперплоскости и недообучении или переобучении случайного леса в зависимости от количества деревьев в нем."
   ]
  },
  {
   "cell_type": "markdown",
   "metadata": {
    "id": "pjdGUi1mbIYc"
   },
   "source": [
    "В целом, с увеличением числа деревьев сложность гиперплоскости увеличивается.\n",
    "Для леса с одним деревом на разных датасетах периодичестки было заметно недообучение.\n",
    "Переобучение не наблюдалось."
   ]
  },
  {
   "cell_type": "markdown",
   "metadata": {},
   "source": [
    "### Задание 3"
   ]
  },
  {
   "cell_type": "markdown",
   "metadata": {},
   "source": [
    "#### *Заменить в реализованном алгоритме проверку с помощью отложенной выборки на Out-of-Bag."
   ]
  },
  {
   "cell_type": "markdown",
   "metadata": {},
   "source": [
    "На примере леса из трех деревьев оцениваю качество модели с помощью OOB данных"
   ]
  },
  {
   "cell_type": "code",
   "execution_count": 653,
   "metadata": {},
   "outputs": [
    {
     "name": "stdout",
     "output_type": "stream",
     "text": [
      "\n",
      "Случайный лес из 3 деревьев:\n",
      "\tТочность на обучающей выборке: 94.286\n",
      "\n",
      "\n",
      "Предсказания = [[1, 1, 1, 1, 0, 1, 1, 0, 0, 0, 0, 1, 1, 0, 1, 1, 1, 1, 1, 0, 1, 1, 0, 0], [1, 1, 1, 1, 0, 1, 1, 0, 0, 0, 1, 0, 0, 1, 1, 1, 1, 1, 1, 1, 0, 0, 1, 0, 0], [1, 1, 1, 1, 1, 0, 0, 0, 1, 1, 0, 1, 0, 0, 1, 0, 0, 1, 0, 0, 1, 1, 0, 1, 0, 0]]\n",
      "\n",
      "Ответы       = [[1, 1, 1, 1, 0, 1, 0, 0, 0, 1, 0, 1, 0, 0, 1, 0, 1, 0, 0, 0, 1, 1, 0, 0], [1, 1, 1, 1, 0, 0, 1, 0, 0, 0, 1, 1, 0, 0, 1, 1, 1, 1, 1, 1, 0, 0, 1, 0, 0], [1, 1, 1, 1, 1, 0, 0, 0, 1, 1, 0, 1, 0, 0, 1, 1, 0, 1, 0, 0, 1, 1, 0, 1, 0, 0]]\n",
      "\n",
      "Дерево 0; Объекты, на которых не обучалось дерево: \n",
      "\tpred = 1; fact = 1; err = \n",
      "\tpred = 1; fact = 1; err = \n",
      "\tpred = 1; fact = 1; err = \n",
      "\tpred = 1; fact = 1; err = \n",
      "\tpred = 0; fact = 0; err = \n",
      "\tpred = 1; fact = 1; err = \n",
      "\tpred = 1; fact = 0; err = 1\n",
      "\tpred = 0; fact = 0; err = \n",
      "\tpred = 0; fact = 0; err = \n",
      "\tpred = 0; fact = 1; err = 1\n",
      "\tpred = 0; fact = 0; err = \n",
      "\tpred = 1; fact = 1; err = \n",
      "\tpred = 1; fact = 0; err = 1\n",
      "\tpred = 0; fact = 0; err = \n",
      "\tpred = 1; fact = 1; err = \n",
      "\tpred = 1; fact = 0; err = 1\n",
      "\tpred = 1; fact = 1; err = \n",
      "\tpred = 1; fact = 0; err = 1\n",
      "\tpred = 1; fact = 0; err = 1\n",
      "\tpred = 0; fact = 0; err = \n",
      "\tpred = 1; fact = 1; err = \n",
      "\tpred = 1; fact = 1; err = \n",
      "\tpred = 0; fact = 0; err = \n",
      "\tpred = 0; fact = 0; err = \n",
      "Средняя точность = 0.75\n",
      "\n",
      "Дерево 1; Объекты, на которых не обучалось дерево: \n",
      "\tpred = 1; fact = 1; err = \n",
      "\tpred = 1; fact = 1; err = \n",
      "\tpred = 1; fact = 1; err = \n",
      "\tpred = 1; fact = 1; err = \n",
      "\tpred = 0; fact = 0; err = \n",
      "\tpred = 1; fact = 0; err = 1\n",
      "\tpred = 1; fact = 1; err = \n",
      "\tpred = 0; fact = 0; err = \n",
      "\tpred = 0; fact = 0; err = \n",
      "\tpred = 0; fact = 0; err = \n",
      "\tpred = 1; fact = 1; err = \n",
      "\tpred = 0; fact = 1; err = 1\n",
      "\tpred = 0; fact = 0; err = \n",
      "\tpred = 1; fact = 0; err = 1\n",
      "\tpred = 1; fact = 1; err = \n",
      "\tpred = 1; fact = 1; err = \n",
      "\tpred = 1; fact = 1; err = \n",
      "\tpred = 1; fact = 1; err = \n",
      "\tpred = 1; fact = 1; err = \n",
      "\tpred = 1; fact = 1; err = \n",
      "\tpred = 0; fact = 0; err = \n",
      "\tpred = 0; fact = 0; err = \n",
      "\tpred = 1; fact = 1; err = \n",
      "\tpred = 0; fact = 0; err = \n",
      "\tpred = 0; fact = 0; err = \n",
      "Средняя точность = 0.88\n",
      "\n",
      "Дерево 2; Объекты, на которых не обучалось дерево: \n",
      "\tpred = 1; fact = 1; err = \n",
      "\tpred = 1; fact = 1; err = \n",
      "\tpred = 1; fact = 1; err = \n",
      "\tpred = 1; fact = 1; err = \n",
      "\tpred = 1; fact = 1; err = \n",
      "\tpred = 0; fact = 0; err = \n",
      "\tpred = 0; fact = 0; err = \n",
      "\tpred = 0; fact = 0; err = \n",
      "\tpred = 1; fact = 1; err = \n",
      "\tpred = 1; fact = 1; err = \n",
      "\tpred = 0; fact = 0; err = \n",
      "\tpred = 1; fact = 1; err = \n",
      "\tpred = 0; fact = 0; err = \n",
      "\tpred = 0; fact = 0; err = \n",
      "\tpred = 1; fact = 1; err = \n",
      "\tpred = 0; fact = 1; err = 1\n",
      "\tpred = 0; fact = 0; err = \n",
      "\tpred = 1; fact = 1; err = \n",
      "\tpred = 0; fact = 0; err = \n",
      "\tpred = 0; fact = 0; err = \n",
      "\tpred = 1; fact = 1; err = \n",
      "\tpred = 1; fact = 1; err = \n",
      "\tpred = 0; fact = 0; err = \n",
      "\tpred = 1; fact = 1; err = \n",
      "\tpred = 0; fact = 0; err = \n",
      "\tpred = 0; fact = 0; err = \n",
      "Средняя точность = 0.9615\n",
      "\n",
      "Точность по всем деревьям = [0.75, 0.88, 0.9615]\n",
      "Итоговая средняя точность = 0.8638\n"
     ]
    }
   ],
   "source": [
    "oob_data_test = []\n",
    "n_trees = 3\n",
    "current_forest = random_forest(train_data, train_labels, n_trees, oob_data_test)\n",
    "\n",
    "train_answers = tree_vote(current_forest, train_data)\n",
    "\n",
    "print(f'\\nСлучайный лес из {n_trees} деревьев:')\n",
    "\n",
    "train_accuracy = accuracy_metric(train_labels, train_answers)\n",
    "print(f'\\tТочность на обучающей выборке: {train_accuracy:.3f}')\n",
    "print()\n",
    "accuracy = accuracy_metric_oob(current_forest, oob_data_test)"
   ]
  },
  {
   "cell_type": "markdown",
   "metadata": {},
   "source": [
    "### Задание 4"
   ]
  },
  {
   "cell_type": "markdown",
   "metadata": {},
   "source": [
    "#### *(На повторение) Переписать функцию gini из урока про решающие деревья так, чтобы в качестве критерия использовалась энтропия Шэннона. Переименовать функцию в entropy."
   ]
  },
  {
   "cell_type": "markdown",
   "metadata": {},
   "source": [
    "Исходная функция gini заменена на функцию crit_inform\n",
    "\n",
    "Введена глобальная переменная criterion_inform, которая определяет критерий информативности при построении дерева\n",
    "\n",
    "Для проверки строится случайный лес (как в задании 1), с таким же количеством деревьев, но с новым критерием информативности"
   ]
  },
  {
   "cell_type": "code",
   "execution_count": 654,
   "metadata": {},
   "outputs": [],
   "source": [
    "criterion_inform = 'entropy'"
   ]
  },
  {
   "cell_type": "code",
   "execution_count": 655,
   "metadata": {},
   "outputs": [
    {
     "name": "stdout",
     "output_type": "stream",
     "text": [
      "\n",
      "Случайный лес из 1 деревьев:\n",
      "\tТочность на обучающей выборке: 92.857\n",
      "\tТочность на тестовой выборке:  86.667\n",
      "\n",
      "Случайный лес из 3 деревьев:\n",
      "\tТочность на обучающей выборке: 95.714\n",
      "\tТочность на тестовой выборке:  90.000\n",
      "\n",
      "Случайный лес из 10 деревьев:\n",
      "\tТочность на обучающей выборке: 97.143\n",
      "\tТочность на тестовой выборке:  86.667\n",
      "\n",
      "Случайный лес из 50 деревьев:\n",
      "\tТочность на обучающей выборке: 95.714\n",
      "\tТочность на тестовой выборке:  90.000\n",
      "Wall time: 4.57 s\n"
     ]
    }
   ],
   "source": [
    "%%time\n",
    "import time\n",
    "count_trees = [1, 3, 10, 50]\n",
    "\n",
    "for n_trees in count_trees:\n",
    "\n",
    "    current_forest = random_forest(train_data, train_labels, n_trees)\n",
    "\n",
    "    # ответы для обучающей выборки и тестовой выборок\n",
    "    train_answers = tree_vote(current_forest, train_data)\n",
    "    test_answers  = tree_vote(current_forest, test_data)\n",
    "\n",
    "    # точность на обучающей и тестовой выборках\n",
    "    train_accuracy = accuracy_metric(train_labels, train_answers)\n",
    "    test_accuracy  = accuracy_metric(test_labels, test_answers)\n",
    "\n",
    "    print(f'\\nСлучайный лес из {n_trees} деревьев:')\n",
    "    print(f'\\tТочность на обучающей выборке: {train_accuracy:.3f}')\n",
    "    print(f'\\tТочность на тестовой выборке:  {test_accuracy:.3f}')\n",
    "    time.sleep(1)\n",
    "    \n",
    "#     visualize(train_data, test_data, current_forest)\n"
   ]
  }
 ],
 "metadata": {
  "colab": {
   "collapsed_sections": [],
   "name": "Lesson_5.ipynb",
   "provenance": []
  },
  "kernelspec": {
   "display_name": "Python 3",
   "language": "python",
   "name": "python3"
  },
  "language_info": {
   "codemirror_mode": {
    "name": "ipython",
    "version": 3
   },
   "file_extension": ".py",
   "mimetype": "text/x-python",
   "name": "python",
   "nbconvert_exporter": "python",
   "pygments_lexer": "ipython3",
   "version": "3.7.6"
  }
 },
 "nbformat": 4,
 "nbformat_minor": 1
}

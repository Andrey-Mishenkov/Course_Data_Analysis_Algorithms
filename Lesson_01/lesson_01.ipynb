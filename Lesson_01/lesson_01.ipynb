{
 "cells": [
  {
   "cell_type": "markdown",
   "metadata": {},
   "source": [
    "### Домашнее задание <a class=\"anchor\" id=\"hw\"></a><center>"
   ]
  },
  {
   "cell_type": "markdown",
   "metadata": {
    "colab_type": "text",
    "id": "huXrhXQsZTMt"
   },
   "source": [
    "#### 1. Подберите скорость обучения (eta) и количество итераций"
   ]
  },
  {
   "cell_type": "code",
   "execution_count": 7,
   "metadata": {},
   "outputs": [],
   "source": [
    "import numpy as np\n",
    "import matplotlib.pyplot as plt\n",
    "from mpl_toolkits.mplot3d.axes3d import Axes3D"
   ]
  },
  {
   "cell_type": "code",
   "execution_count": 79,
   "metadata": {},
   "outputs": [],
   "source": [
    "def calc_mae(y, y_pred):\n",
    "    err = np.mean(np.abs(y - y_pred))\n",
    "    return err\n",
    "\n",
    "def calc_mse(y, y_pred):\n",
    "    err = np.mean((y - y_pred)**2)\n",
    "    return err\n",
    "\n",
    "def mserror(X, w, y):\n",
    "    y_pred = X.dot(w)\n",
    "    return (np.sum((y_pred - y)**2)) / len(y)"
   ]
  },
  {
   "cell_type": "code",
   "execution_count": 80,
   "metadata": {},
   "outputs": [],
   "source": [
    "X = np.array([[ 1,  1],\n",
    "              [ 1,  1],\n",
    "              [ 1,  2],\n",
    "              [ 1,  5],\n",
    "              [ 1,  3],\n",
    "              [ 1,  0],\n",
    "              [ 1,  5],\n",
    "              [ 1, 10],\n",
    "              [ 1,  1],\n",
    "              [ 1,  2]])\n",
    "\n",
    "y = [45, 55, 50, 55, 60, 35, 75, 80, 50, 60]"
   ]
  },
  {
   "cell_type": "code",
   "execution_count": 104,
   "metadata": {
    "colab": {
     "base_uri": "https://localhost:8080/",
     "height": 185
    },
    "colab_type": "code",
    "id": "IDB22MQKMYaJ",
    "outputId": "4c03219e-a57c-4583-f439-6699fd0619bb"
   },
   "outputs": [
    {
     "name": "stdout",
     "output_type": "stream",
     "text": [
      "Number of objects = 10        \n",
      "Learning rate = 0.01        \n",
      "Initial weights = [1.  0.5] \n",
      "\n",
      "Iteration #0: W_new = [2.08 4.27]; eta = 0.008658008658; MSE = 3047.75\n",
      "Iteration #200: W_new = [36.52137653  5.36130105]; eta = 0.007496111392; MSE = 78.87697085\n",
      "Iteration #400: W_new = [42.8964223   4.20528479]; eta = 0.006490139734; MSE = 46.20911384\n",
      "Iteration #600: W_new = [44.40175747  3.93231547]; eta = 0.0056191686; MSE = 44.17683128\n",
      "Iteration #800: W_new = [44.82603479  3.85537932]; eta = 0.004865081039; MSE = 43.99535782\n",
      "Iteration #1000: W_new = [44.96533183  3.83011995]; eta = 0.004212191376; MSE = 43.97323665\n",
      "Iteration #1200: W_new = [45.01749983  3.82066009]; eta = 0.00364691894; MSE = 43.96971113\n",
      "Iteration #1400: W_new = [45.0393877   3.81669106]; eta = 0.003157505576; MSE = 43.96900327\n",
      "Iteration #1600: W_new = [45.0495174   3.81485419]; eta = 0.002733771061; MSE = 43.96882984\n",
      "Iteration #1800: W_new = [45.05461981  3.81392895]; eta = 0.002366901352; MSE = 43.96877939\n",
      "Iteration #2000: W_new = [45.05738506  3.81342752]; eta = 0.00204926524; MSE = 43.96876238\n",
      "Iteration #2200: W_new = [45.05898151  3.81313802]; eta = 0.001774255619; MSE = 43.96875585\n",
      "Iteration #2400: W_new = [45.05995495  3.81296151]; eta = 0.001536152051; MSE = 43.96875306\n",
      "Iteration #2600: W_new = [45.06057724  3.81284866]; eta = 0.001330001776; MSE = 43.96875175\n",
      "Iteration #2800: W_new = [45.06099164  3.81277352]; eta = 0.001151516689; MSE = 43.96875107\n",
      "Iteration #3000: W_new = [45.06127752  3.81272168]; eta = 0.000996984146; MSE = 43.96875071\n",
      "Iteration #3200: W_new = [45.06148087  3.8126848 ]; eta = 0.000863189737; MSE = 43.96875049\n",
      "Iteration #3400: W_new = [45.06162939  3.81265787]; eta = 0.000747350422; MSE = 43.96875036\n",
      "Iteration #3600: W_new = [45.06174037  3.81263775]; eta = 0.000647056642; MSE = 43.96875027\n",
      "Iteration #3800: W_new = [45.06182496  3.81262241]; eta = 0.000560222201; MSE = 43.96875021\n",
      "Iteration #4000: W_new = [45.06189054  3.81261052]; eta = 0.000485040867; MSE = 43.96875018\n",
      "Iteration #4200: W_new = [45.06194216  3.81260116]; eta = 0.000419948802; MSE = 43.96875015\n",
      "Iteration #4400: W_new = [45.0619833  3.8125937]; eta = 0.000363592037; MSE = 43.96875013\n",
      "Iteration #4600: W_new = [45.06201646  3.81258768]; eta = 0.0003147983; MSE = 43.96875011\n",
      "Iteration #4800: W_new = [45.06204345  3.81258279]; eta = 0.000272552641; MSE = 43.9687501\n",
      "Iteration #5000: W_new = [45.06206559  3.81257877]; eta = 0.000235976312; MSE = 43.96875009\n",
      "Iteration #5200: W_new = [45.06208389  3.81257545]; eta = 0.000204308496; MSE = 43.96875008\n",
      "Iteration #5400: W_new = [45.06209912  3.81257269]; eta = 0.000176890472; MSE = 43.96875008\n",
      "Iteration #5600: W_new = [45.06211184  3.81257039]; eta = 0.000153151924; MSE = 43.96875007\n",
      "Iteration #5800: W_new = [45.06212254  3.81256845]; eta = 0.000132599068; MSE = 43.96875007\n",
      "Iteration #6000: W_new = [45.06213156  3.81256681]; eta = 0.000114804388; MSE = 43.96875006\n",
      "Iteration #6200: W_new = [45.06213919  3.81256543]; eta = 9.9397739e-05; MSE = 43.96875006\n",
      "Iteration #6400: W_new = [45.06214568  3.81256425]; eta = 8.6058648e-05; MSE = 43.96875006\n",
      "Iteration #6600: W_new = [45.0621512   3.81256325]; eta = 7.4509652e-05; MSE = 43.96875006\n",
      "Iteration #6800: W_new = [45.0621559  3.8125624]; eta = 6.4510521e-05; MSE = 43.96875006\n",
      "Iteration #7000: W_new = [45.06215993  3.81256167]; eta = 5.5853265e-05; MSE = 43.96875005\n",
      "Iteration #7200: W_new = [45.06216338  3.81256104]; eta = 4.8357805e-05; MSE = 43.96875005\n",
      "Iteration #7400: W_new = [45.06216633  3.81256051]; eta = 4.186823e-05; MSE = 43.96875005\n",
      "Iteration #7600: W_new = [45.06216887  3.81256005]; eta = 3.624955e-05; MSE = 43.96875005\n",
      "Iteration #7800: W_new = [45.06217105  3.81255965]; eta = 3.1384891e-05; MSE = 43.96875005\n",
      "Iteration #8000: W_new = [45.06217293  3.81255931]; eta = 2.7173066e-05; MSE = 43.96875005\n",
      "Iteration #8200: W_new = [45.06217455  3.81255902]; eta = 2.3526464e-05; MSE = 43.96875005\n",
      "Iteration #8400: W_new = [45.06217594  3.81255876]; eta = 2.0369233e-05; MSE = 43.96875005\n",
      "Iteration #8600: W_new = [45.06217714  3.81255855]; eta =  1.76357e-05; MSE = 43.96875005\n",
      "Iteration #8800: W_new = [45.06217818  3.81255836]; eta = 1.5269004e-05; MSE = 43.96875005\n",
      "Iteration #9000: W_new = [45.06217908  3.81255819]; eta = 1.3219917e-05; MSE = 43.96875005\n",
      "Iteration #9200: W_new = [45.06217985  3.81255805]; eta = 1.1445816e-05; MSE = 43.96875005\n",
      "Iteration #9400: W_new = [45.06218052  3.81255793]; eta = 9.909797e-06; MSE = 43.96875005\n",
      "Iteration #9600: W_new = [45.06218109  3.81255783]; eta = 8.579911e-06; MSE = 43.96875005\n",
      "Iteration #9800: W_new = [45.06218159  3.81255774]; eta = 7.428494e-06; MSE = 43.96875005\n"
     ]
    }
   ],
   "source": [
    "n = X.shape[0]\n",
    "\n",
    "#------------------------------------------------------------------------------------\n",
    "# Было\n",
    "# eta = 1e-2 \n",
    "# n_iter = 100\n",
    "\n",
    "#------------------------------------------------------------------------------------\n",
    "# Стало - Подобраннные значения:\n",
    "eta = 1e-2\n",
    "n_iter = 10000\n",
    "#------------------------------------------------------------------------------------\n",
    "# После 8000 - 8500 итераций коэффициенты и MSE не меняются до шестого знака\n",
    "#------------------------------------------------------------------------------------\n",
    "\n",
    "W = np.array([1, 0.5])\n",
    "print(f'Number of objects = {n} \\\n",
    "       \\nLearning rate = {eta} \\\n",
    "       \\nInitial weights = {W} \\n')\n",
    "\n",
    "for i in range(n_iter):\n",
    "    \n",
    "    y_pred = np.dot(X, W)\n",
    "    err = calc_mse(y, y_pred)\n",
    "    \n",
    "    for k in range(W.shape[0]):\n",
    "        W[k] -= eta * (1/n * 2 * X[:, k] @ (y_pred - y))\n",
    "    \n",
    "    if i % 200 == 0:\n",
    "#------------------------------------------------------------------------------------\n",
    "# Было\n",
    "        eta /= 1.1\n",
    "#------------------------------------------------------------------------------------\n",
    "# Стало\n",
    "# снизил темп уменьшения скорости обучения\n",
    "        eta /= 1.05\n",
    "#------------------------------------------------------------------------------------\n",
    "\n",
    "        print(f'Iteration #{i}: W_new = {W}; eta = {round(eta, 12):12}; MSE = {round(err, 8)}')"
   ]
  },
  {
   "cell_type": "markdown",
   "metadata": {
    "colab_type": "text",
    "id": "5Qu1o4JhZYwI"
   },
   "source": [
    "#### 2*. В этом коде мы избавляемся от итераций по весам, но тут есть ошибка, исправьте ее"
   ]
  },
  {
   "cell_type": "code",
   "execution_count": 98,
   "metadata": {},
   "outputs": [
    {
     "name": "stdout",
     "output_type": "stream",
     "text": [
      "Number of objects = 10        \n",
      "Learning rate = 0.01        \n",
      "Initial weights = [1.  0.5] \n",
      "\n",
      "Iteration #0: W_new = [2.08 4.27], MSE = 3047.75\n",
      "Iteration #10: W_new = [ 7.0011236 10.6169007], MSE = 738.65\n",
      "Iteration #20: W_new = [10.3486292  10.10603105], MSE = 622.03\n",
      "Iteration #30: W_new = [13.38789582  9.55618391], MSE = 525.24\n",
      "Iteration #40: W_new = [16.16088505  9.05336203], MSE = 444.66\n",
      "Iteration #50: W_new = [18.69110735  8.59454545], MSE = 377.58\n",
      "Iteration #60: W_new = [20.99981865  8.17589626], MSE = 321.72\n",
      "Iteration #70: W_new = [23.10641138  7.79389815], MSE = 275.22\n",
      "Iteration #80: W_new = [25.02858024  7.44534246], MSE = 236.5\n",
      "Iteration #90: W_new = [26.78247081  7.12730145], MSE = 204.27\n"
     ]
    }
   ],
   "source": [
    "n = X.shape[0]\n",
    "\n",
    "eta = 1e-2 \n",
    "n_iter = 100\n",
    "\n",
    "W = np.array([1, 0.5])\n",
    "\n",
    "print(f'Number of objects = {n} \\\n",
    "       \\nLearning rate = {eta} \\\n",
    "       \\nInitial weights = {W} \\n')\n",
    "\n",
    "for i in range(n_iter):\n",
    "    \n",
    "    y_pred = np.dot(X, W)\n",
    "    err = calc_mse(y, y_pred)\n",
    "\n",
    "#------------------------------------------------------------------------------------\n",
    "# Было\n",
    "#     W -= eta * (1/n * 2 * np.dot(X, y_pred - y))\n",
    "#------------------------------------------------------------------------------------\n",
    "# Стало\n",
    "    W -= eta * (2/n * np.dot(X.T, y_pred - y))\n",
    "#------------------------------------------------------------------------------------\n",
    "\n",
    "    if i % 10 == 0:\n",
    "        print(f'Iteration #{i}: W_new = {W}, MSE = {round(err,2)}')"
   ]
  },
  {
   "cell_type": "markdown",
   "metadata": {},
   "source": [
    "#### 3*. Вместо того, чтобы задавать количество итераций, задайте другое условие останова алгоритма - когда веса перестают изменяться меньше определенного порога $\\epsilon$."
   ]
  },
  {
   "cell_type": "code",
   "execution_count": 103,
   "metadata": {},
   "outputs": [
    {
     "name": "stdout",
     "output_type": "stream",
     "text": [
      "Number of objects = 10        \n",
      "Learning rate = 0.01        \n",
      "Initial weights = [1.  0.5] \n",
      "\n",
      "Iteration #50: W_new = [18.44838865  8.63855875], MSE = 377.57641517; w_dist = 0.24894737331124467\n",
      "Iteration #100: W_new = [28.22929764  6.86494171], MSE = 177.42704442; w_dist = 0.1574571270703258\n",
      "Iteration #150: W_new = [34.41564059  5.7431438 ], MSE = 97.3581598; w_dist = 0.09959031314720329\n",
      "Iteration #200: W_new = [38.32845066  5.03361602], MSE = 65.32695101; w_dist = 0.06299003835074193\n",
      "Iteration #250: W_new = [40.80327023  4.58484565], MSE = 52.51300535; w_dist = 0.039840671306690605\n",
      "Iteration #300: W_new = [42.36857287  4.30100215], MSE = 47.38684217; w_dist = 0.02519889067743907\n",
      "Iteration #350: W_new = [43.35861367  4.12147351], MSE = 45.33614289; w_dist = 0.01593808714931448\n",
      "Iteration #400: W_new = [43.98480618  4.00792316], MSE = 44.51576958; w_dist = 0.010080706537082105\n",
      "Iteration #450: W_new = [44.38086769  3.93610351], MSE = 44.1875828; w_dist = 0.006375962393396116\n",
      "Iteration #500: W_new = [44.63137328  3.89067818], MSE = 44.05629311; w_dist = 0.004032742773783824\n",
      "Iteration #550: W_new = [44.78981596  3.86194705], MSE = 44.00377124; w_dist = 0.002550676004035292\n",
      "Iteration #600: W_new = [44.89002963  3.84377484], MSE = 43.98276009; w_dist = 0.0016132811940950161\n",
      "Iteration #650: W_new = [44.95341394  3.83228108], MSE = 43.97435468; w_dist = 0.0010203868335698662\n",
      "Iteration #700: W_new = [44.99350398  3.82501136], MSE = 43.97099213; w_dist = 0.0006453861198744717\n",
      "Iteration #750: W_new = [45.0188606   3.82041333], MSE = 43.96964695; w_dist = 0.0004082013115239504\n",
      "Iteration #800: W_new = [45.03489844  3.81750512], MSE = 43.96910882; w_dist = 0.0002581839082054358\n",
      "Iteration #850: W_new = [45.04504225  3.81566569], MSE = 43.96889355; w_dist = 0.00016329915797755966\n",
      "Iteration #900: W_new = [45.05145812  3.81450228], MSE = 43.96880742; w_dist = 0.00010328534872992704\n",
      "Iteration #950: W_new = [45.0555161   3.81376642], MSE = 43.96877297; w_dist = 6.532711738899146e-05\n",
      "Iteration #1000: W_new = [45.05808274  3.813301  ], MSE = 43.96875919; w_dist = 4.131885421161189e-05\n",
      "Iteration #1050: W_new = [45.05970612  3.81300663], MSE = 43.96875368; w_dist = 2.6133828976933632e-05\n",
      "Iteration #1100: W_new = [45.0607329   3.81282044], MSE = 43.96875147; w_dist = 1.652942778377924e-05\n",
      "Iteration #1150: W_new = [45.06138232  3.81270267], MSE = 43.96875059; w_dist = 1.045472453015022e-05\n",
      "Iteration #1200: W_new = [45.06179308  3.81262819], MSE = 43.96875024; w_dist = 6.612525642870708e-06\n",
      "Iteration #1250: W_new = [45.06205288  3.81258108], MSE = 43.96875009; w_dist = 4.182367046232337e-06\n",
      "Iteration #1300: W_new = [45.0622172   3.81255128], MSE = 43.96875004; w_dist = 2.645312103337364e-06\n",
      "Iteration #1350: W_new = [45.06232113  3.81253244], MSE = 43.96875002; w_dist = 1.6731377310779858e-06\n",
      "Iteration #1400: W_new = [45.06238687  3.81252052], MSE = 43.96875001; w_dist = 1.0582455957977922e-06\n",
      "Iteration #1450: W_new = [45.06242844  3.81251298], MSE = 43.96875; w_dist = 6.693314705544418e-07\n",
      "Iteration #1500: W_new = [45.06245474  3.81250821], MSE = 43.96875; w_dist = 4.233465430371064e-07\n",
      "Iteration #1550: W_new = [45.06247137  3.81250519], MSE = 43.96875; w_dist = 2.6776313736060284e-07\n",
      "Iteration #1600: W_new = [45.06248189  3.81250328], MSE = 43.96875; w_dist = 1.693579415326269e-07\n",
      "Iteration #1650: W_new = [45.06248855  3.81250208], MSE = 43.96875; w_dist = 1.0711748182012708e-07\n",
      "Iteration #1700: W_new = [45.06249276  3.81250131], MSE = 43.96875; w_dist = 6.775090634333394e-08\n",
      "Iteration #1750: W_new = [45.06249542  3.81250083], MSE = 43.96875; w_dist = 4.285188023028987e-08\n",
      "Iteration #1800: W_new = [45.0624971   3.81250053], MSE = 43.96875; w_dist = 2.7103458929305246e-08\n",
      "Iteration #1850: W_new = [45.06249817  3.81250033], MSE = 43.96875; w_dist = 1.714271050593889e-08\n",
      "Iteration #1900: W_new = [45.06249884  3.81250021], MSE = 43.96875; w_dist = 1.0842621311727737e-08\n"
     ]
    }
   ],
   "source": [
    "n = X.shape[0]\n",
    "\n",
    "eta = 1e-2 \n",
    "n_iter = 100\n",
    "\n",
    "W = np.array([1, 0.5])\n",
    "\n",
    "print(f'Number of objects = {n} \\\n",
    "       \\nLearning rate = {eta} \\\n",
    "       \\nInitial weights = {W} \\n')\n",
    "\n",
    "#------------------------------------------------------------------------------------\n",
    "# Новый код\n",
    "# Последующий фрагмент кода почти полностью переписан\n",
    "\n",
    "W_prev = np.zeros(X.shape[1])     # начальные коэффициенты\n",
    "min_weight_dist = 1e-8            # критерий сходимости\n",
    "weight_dist = np.inf              # начальная разница весов\n",
    "i = 1\n",
    "\n",
    "while weight_dist > min_weight_dist:\n",
    "    y_pred = np.dot(X, W)\n",
    "\n",
    "    W -= eta * (2/n * np.dot(X.T, y_pred - y))\n",
    "    weight_dist = np.linalg.norm(W - W_prev, ord = 2)     # L2-норма\n",
    "    err = mserror(X, W, y)\n",
    "\n",
    "    if i % 50 == 0:\n",
    "        print(f'Iteration #{i}: W_new = {W}, MSE = {round(err, 8)}; w_dist = {weight_dist:12}')\n",
    "\n",
    "    W_prev = np.copy(W)\n",
    "    i += 1\n",
    "#------------------------------------------------------------------------------------"
   ]
  }
 ],
 "metadata": {
  "colab": {
   "name": "Lesson_1.ipynb",
   "provenance": []
  },
  "kernelspec": {
   "display_name": "Python 3",
   "language": "python",
   "name": "python3"
  },
  "language_info": {
   "codemirror_mode": {
    "name": "ipython",
    "version": 3
   },
   "file_extension": ".py",
   "mimetype": "text/x-python",
   "name": "python",
   "nbconvert_exporter": "python",
   "pygments_lexer": "ipython3",
   "version": "3.7.6"
  }
 },
 "nbformat": 4,
 "nbformat_minor": 1
}
